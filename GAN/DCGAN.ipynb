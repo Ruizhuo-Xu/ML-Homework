{
 "cells": [
  {
   "cell_type": "code",
   "execution_count": 1,
   "metadata": {},
   "outputs": [],
   "source": [
    "import torch\n",
    "from torch import nn\n",
    "import torch.optim as optim\n",
    "\n",
    "from torchvision import transforms, datasets\n",
    "from torchvision.utils import make_grid\n",
    "\n",
    "from torchvision.datasets import CIFAR10\n",
    "from torch.utils.data import DataLoader\n",
    "\n",
    "import matplotlib.pyplot as plt\n",
    "from IPython.display import clear_output\n",
    "from torchstat import stat\n",
    "\n",
    "from tqdm import tqdm, trange\n",
    "import wandb\n",
    "from torchvision.utils import save_image\n",
    "import numpy as np\n",
    "import matplotlib\n",
    "\n",
    "matplotlib.style.use('ggplot')"
   ]
  },
  {
   "attachments": {},
   "cell_type": "markdown",
   "metadata": {},
   "source": [
    "## 定义生成器和辨别器"
   ]
  },
  {
   "cell_type": "code",
   "execution_count": 2,
   "metadata": {},
   "outputs": [],
   "source": [
    "# generator\n",
    "class Generator(nn.Module):\n",
    "    def __init__(self, nz):\n",
    "        super(Generator, self).__init__()\n",
    "        self.nz = nz\n",
    "        self.main = nn.Sequential(\n",
    "            # nz will be the input to the first convolution\n",
    "            nn.ConvTranspose2d(\n",
    "                nz, 512, kernel_size=4, \n",
    "                stride=1, padding=0, bias=False),  # B, 512, 4, 4\n",
    "            nn.BatchNorm2d(512),\n",
    "            nn.ReLU(True),\n",
    "            nn.ConvTranspose2d(\n",
    "                512, 256, kernel_size=4, \n",
    "                stride=2, padding=1, bias=False),  # B, 256, 8, 8\n",
    "            nn.BatchNorm2d(256),\n",
    "            nn.ReLU(True),\n",
    "            nn.ConvTranspose2d(\n",
    "                256, 128, kernel_size=4, \n",
    "                stride=2, padding=1, bias=False),  # B, 128, 16, 16\n",
    "            nn.BatchNorm2d(128),\n",
    "            nn.ReLU(True),\n",
    "            nn.ConvTranspose2d(\n",
    "                128, 64, kernel_size=4, \n",
    "                stride=2, padding=1, bias=False),  # B, 64, 32, 32\n",
    "            nn.BatchNorm2d(64),\n",
    "            nn.ReLU(True),\n",
    "            nn.ConvTranspose2d(\n",
    "                64, 3, kernel_size=4, \n",
    "                stride=2, padding=1, bias=False),  # B, 3, 64, 64\n",
    "            nn.Tanh()\n",
    "        )\n",
    "    def forward(self, input):\n",
    "        return self.main(input)"
   ]
  },
  {
   "cell_type": "code",
   "execution_count": 3,
   "metadata": {},
   "outputs": [],
   "source": [
    "# discriminator\n",
    "class Discriminator(nn.Module):\n",
    "    def __init__(self):\n",
    "        super(Discriminator, self).__init__()\n",
    "        self.main = nn.Sequential(\n",
    "            nn.Conv2d(\n",
    "                3, 64, kernel_size=4, \n",
    "                stride=2, padding=1, bias=False),  # B, 64, 32, 32\n",
    "            nn.LeakyReLU(0.2, inplace=True),\n",
    "            nn.Conv2d(\n",
    "                64, 128, kernel_size=4, \n",
    "                stride=2, padding=1, bias=False),  # B, 128, 16, 16\n",
    "            nn.BatchNorm2d(128),\n",
    "            nn.LeakyReLU(0.2, inplace=True),\n",
    "            nn.Conv2d(\n",
    "                128, 256, kernel_size=4, \n",
    "                stride=2, padding=1, bias=False),  # B, 256, 8, 8\n",
    "            nn.BatchNorm2d(256),\n",
    "            nn.LeakyReLU(0.2, inplace=True),\n",
    "            nn.Conv2d(\n",
    "                256, 512, kernel_size=4, \n",
    "                stride=2, padding=1, bias=False),  # B, 512, 4, 4\n",
    "            nn.BatchNorm2d(512),\n",
    "            nn.LeakyReLU(0.2, inplace=True),\n",
    "            nn.Conv2d(\n",
    "                512, 1, kernel_size=4, \n",
    "                stride=1, padding=0, bias=False),  # B, 1, 1, 1\n",
    "            nn.Sigmoid()\n",
    "        )\n",
    "    def forward(self, input):\n",
    "        return self.main(input)"
   ]
  },
  {
   "cell_type": "markdown",
   "metadata": {},
   "source": [
    "## utils"
   ]
  },
  {
   "cell_type": "code",
   "execution_count": 4,
   "metadata": {},
   "outputs": [],
   "source": [
    "# set the computation device\n",
    "device = torch.device('cuda:1' if torch.cuda.is_available() else 'cpu')\n",
    "def label_real(size):\n",
    "    \"\"\"\n",
    "    Fucntion to create real labels (ones)\n",
    "    :param size: batch size\n",
    "    :return real label vector\n",
    "    \"\"\"\n",
    "    data = torch.ones(size, 1)\n",
    "    return data.to(device)\n",
    "\n",
    "def label_fake(size):\n",
    "    \"\"\"\n",
    "    Fucntion to create fake labels (zeros)\n",
    "    :param size: batch size\n",
    "    :returns fake label vector\n",
    "    \"\"\"\n",
    "    data = torch.zeros(size, 1)\n",
    "    return data.to(device)\n",
    "\n",
    "def create_noise(sample_size, nz):\n",
    "    \"\"\"\n",
    "    Fucntion to create noise\n",
    "    :param sample_size: fixed sample size or batch size\n",
    "    :param nz: latent vector size\n",
    "    :returns random noise vector\n",
    "    \"\"\"\n",
    "    return torch.randn(sample_size, nz, 1, 1).to(device)\n",
    "\n",
    "def save_generator_image(image, path):\n",
    "    \"\"\"\n",
    "    Function to save torch image batches\n",
    "    :param image: image tensor batch\n",
    "    :param path: path name to save image\n",
    "    \"\"\"\n",
    "    save_image(image, path, normalize=True)\n",
    "    \n",
    "def weights_init(m):\n",
    "    \"\"\"\n",
    "    This function initializes the model weights randomly from a \n",
    "    Normal distribution. This follows the specification from the DCGAN paper.\n",
    "    https://arxiv.org/pdf/1511.06434.pdf\n",
    "    Source: https://pytorch.org/tutorials/beginner/dcgan_faces_tutorial.html\n",
    "    \"\"\"\n",
    "    classname = m.__class__.__name__\n",
    "    if classname.find('Conv') != -1:\n",
    "        nn.init.normal_(m.weight.data, 0.0, 0.02)\n",
    "    elif classname.find('BatchNorm') != -1:\n",
    "        nn.init.normal_(m.weight.data, 1.0, 0.02)\n",
    "        nn.init.constant_(m.bias.data, 0)"
   ]
  },
  {
   "attachments": {},
   "cell_type": "markdown",
   "metadata": {},
   "source": [
    "## 定义超参数"
   ]
  },
  {
   "cell_type": "code",
   "execution_count": 5,
   "metadata": {},
   "outputs": [],
   "source": [
    "# learning parameters / configurations according to paper\n",
    "image_size = 64 # we need to resize image to 64x64\n",
    "batch_size = 128\n",
    "nz = 100 # latent vector size\n",
    "beta1 = 0.5 # beta1 value for Adam optimizer\n",
    "lr = 0.0002 # learning rate according to paper\n",
    "sample_size = 64 # fixed sample size\n",
    "epochs = 200 # number of epoch to train\n",
    "# set the computation device\n",
    "device = torch.device('cuda:1' if torch.cuda.is_available() else 'cpu')"
   ]
  },
  {
   "attachments": {},
   "cell_type": "markdown",
   "metadata": {},
   "source": [
    "## 加载数据集"
   ]
  },
  {
   "cell_type": "code",
   "execution_count": 6,
   "metadata": {},
   "outputs": [
    {
     "name": "stdout",
     "output_type": "stream",
     "text": [
      "Files already downloaded and verified\n"
     ]
    }
   ],
   "source": [
    "# image transforms\n",
    "transform = transforms.Compose([\n",
    "    transforms.Resize(image_size),\n",
    "    transforms.ToTensor(),\n",
    "    transforms.Normalize((0.5, 0.5, 0.5), \n",
    "    (0.5, 0.5, 0.5)),\n",
    "])\n",
    "# prepare the data\n",
    "train_data = datasets.CIFAR10(\n",
    "    root='./data',\n",
    "    train=True,\n",
    "    download=True,\n",
    "    transform=transform\n",
    ")\n",
    "train_loader = DataLoader(train_data, batch_size=batch_size, shuffle=True)"
   ]
  },
  {
   "attachments": {},
   "cell_type": "markdown",
   "metadata": {},
   "source": [
    "## 初始化生成器、辨别器"
   ]
  },
  {
   "cell_type": "code",
   "execution_count": 7,
   "metadata": {},
   "outputs": [],
   "source": [
    "# initialize models\n",
    "generator = Generator(nz).to(device)\n",
    "discriminator = Discriminator().to(device) \n",
    "# initialize generator weights\n",
    "generator.apply(weights_init)\n",
    "# initialize discriminator weights\n",
    "discriminator.apply(weights_init)\n",
    "pass"
   ]
  },
  {
   "attachments": {},
   "cell_type": "markdown",
   "metadata": {},
   "source": [
    "## 定义优化器和损失函数"
   ]
  },
  {
   "cell_type": "code",
   "execution_count": 8,
   "metadata": {},
   "outputs": [],
   "source": [
    "# optimizers\n",
    "optim_g = optim.Adam(generator.parameters(), lr=lr, betas=(beta1, 0.999))\n",
    "optim_d = optim.Adam(discriminator.parameters(), lr=lr, betas=(beta1, 0.999))\n",
    "# loss function\n",
    "criterion = nn.BCELoss()\n",
    "losses_g = [] # to store generator loss after each epoch\n",
    "losses_d = [] # to store discriminator loss after each epoch"
   ]
  },
  {
   "attachments": {},
   "cell_type": "markdown",
   "metadata": {},
   "source": [
    "## 定义辨别器训练函数"
   ]
  },
  {
   "cell_type": "code",
   "execution_count": 9,
   "metadata": {},
   "outputs": [],
   "source": [
    "# function to train the discriminator network\n",
    "def train_discriminator(optimizer, data_real, data_fake):\n",
    "    b_size = data_real.size(0)\n",
    "    # get the real label vector\n",
    "    real_label = label_real(b_size)\n",
    "    # get the fake label vector\n",
    "    fake_label = label_fake(b_size)\n",
    "    optimizer.zero_grad()\n",
    "    # get the outputs by doing real data forward pass\n",
    "    output_real = discriminator(data_real).view(-1, 1)\n",
    "    loss_real = criterion(output_real, real_label)\n",
    "    # get the outputs by doing fake data forward pass\n",
    "    output_fake = discriminator(data_fake).view(-1, 1)\n",
    "    loss_fake = criterion(output_fake, fake_label)\n",
    "    # compute gradients of real loss \n",
    "    loss_real.backward()\n",
    "    # compute gradients of fake loss\n",
    "    loss_fake.backward()\n",
    "    # update discriminator parameters\n",
    "    optimizer.step()\n",
    "    return loss_real + loss_fake"
   ]
  },
  {
   "attachments": {},
   "cell_type": "markdown",
   "metadata": {},
   "source": [
    "## 定义生成器训练函数"
   ]
  },
  {
   "cell_type": "code",
   "execution_count": 10,
   "metadata": {},
   "outputs": [],
   "source": [
    "# function to train the generator network\n",
    "def train_generator(optimizer, data_fake):\n",
    "    b_size = data_fake.size(0)\n",
    "    # get the real label vector\n",
    "    real_label = label_real(b_size)\n",
    "    optimizer.zero_grad()\n",
    "    # output by doing a forward pass of the fake data through discriminator\n",
    "    output = discriminator(data_fake).view(-1, 1)\n",
    "    loss = criterion(output, real_label)\n",
    "    # compute gradients of loss\n",
    "    loss.backward()\n",
    "    # update generator parameters\n",
    "    optimizer.step()\n",
    "    return loss "
   ]
  },
  {
   "attachments": {},
   "cell_type": "markdown",
   "metadata": {},
   "source": [
    "## 训练"
   ]
  },
  {
   "cell_type": "code",
   "execution_count": 11,
   "metadata": {},
   "outputs": [],
   "source": [
    "# create the noise vector\n",
    "noise = create_noise(sample_size, nz)"
   ]
  },
  {
   "cell_type": "code",
   "execution_count": 12,
   "metadata": {},
   "outputs": [],
   "source": [
    "generator.train()\n",
    "discriminator.train()\n",
    "pass"
   ]
  },
  {
   "cell_type": "code",
   "execution_count": 13,
   "metadata": {},
   "outputs": [
    {
     "name": "stderr",
     "output_type": "stream",
     "text": [
      "Failed to detect the name of this notebook, you can set it manually with the WANDB_NOTEBOOK_NAME environment variable to enable code saving.\n",
      "\u001b[34m\u001b[1mwandb\u001b[0m: Currently logged in as: \u001b[33mruizhuo_xu\u001b[0m. Use \u001b[1m`wandb login --relogin`\u001b[0m to force relogin\n"
     ]
    },
    {
     "data": {
      "text/html": [
       "wandb version 0.13.7 is available!  To upgrade, please run:\n",
       " $ pip install wandb --upgrade"
      ],
      "text/plain": [
       "<IPython.core.display.HTML object>"
      ]
     },
     "metadata": {},
     "output_type": "display_data"
    },
    {
     "data": {
      "text/html": [
       "Tracking run with wandb version 0.13.3"
      ],
      "text/plain": [
       "<IPython.core.display.HTML object>"
      ]
     },
     "metadata": {},
     "output_type": "display_data"
    },
    {
     "data": {
      "text/html": [
       "Run data is saved locally in <code>/home/rz/code/ML-Homework/GAN/wandb/run-20221217_210322-2qeq8bfk</code>"
      ],
      "text/plain": [
       "<IPython.core.display.HTML object>"
      ]
     },
     "metadata": {},
     "output_type": "display_data"
    },
    {
     "data": {
      "text/html": [
       "Syncing run <strong><a href=\"https://wandb.ai/ruizhuo_xu/Gan/runs/2qeq8bfk\" target=\"_blank\">DCGAN</a></strong> to <a href=\"https://wandb.ai/ruizhuo_xu/Gan\" target=\"_blank\">Weights & Biases</a> (<a href=\"https://wandb.me/run\" target=\"_blank\">docs</a>)<br/>"
      ],
      "text/plain": [
       "<IPython.core.display.HTML object>"
      ]
     },
     "metadata": {},
     "output_type": "display_data"
    },
    {
     "data": {
      "text/html": [
       "<button onClick=\"this.nextSibling.style.display='block';this.style.display='none';\">Display W&B run</button><iframe src=\"https://wandb.ai/ruizhuo_xu/Gan/runs/2qeq8bfk?jupyter=true\" style=\"border:none;width:100%;height:420px;display:none;\"></iframe>"
      ],
      "text/plain": [
       "<wandb.sdk.wandb_run.Run at 0x7f9de5664310>"
      ]
     },
     "execution_count": 13,
     "metadata": {},
     "output_type": "execute_result"
    }
   ],
   "source": [
    "wandb.init(project=\"Gan\", name=\"DCGAN\", entity=\"ruizhuo_xu\")"
   ]
  },
  {
   "cell_type": "code",
   "execution_count": 14,
   "metadata": {},
   "outputs": [
    {
     "name": "stderr",
     "output_type": "stream",
     "text": [
      "391it [01:13,  5.34it/s]                         \n"
     ]
    },
    {
     "name": "stdout",
     "output_type": "stream",
     "text": [
      "Epoch 1 of 100\n",
      "Generator loss: 7.45828056, Discriminator loss: 0.47360790\n"
     ]
    },
    {
     "name": "stderr",
     "output_type": "stream",
     "text": [
      "  6%|▌         | 24/390 [00:04<01:08,  5.34it/s]wandb: Network error (TransientError), entering retry loop.\n",
      "391it [01:12,  5.38it/s]                         \n"
     ]
    },
    {
     "name": "stdout",
     "output_type": "stream",
     "text": [
      "Epoch 2 of 100\n",
      "Generator loss: 4.02219963, Discriminator loss: 0.75296229\n"
     ]
    },
    {
     "name": "stderr",
     "output_type": "stream",
     "text": [
      "  6%|▌         | 23/390 [00:04<01:08,  5.38it/s]wandb: Network error (TransientError), entering retry loop.\n",
      "391it [01:12,  5.42it/s]                         \n"
     ]
    },
    {
     "name": "stdout",
     "output_type": "stream",
     "text": [
      "Epoch 3 of 100\n",
      "Generator loss: 3.80518866, Discriminator loss: 0.60231143\n"
     ]
    },
    {
     "name": "stderr",
     "output_type": "stream",
     "text": [
      "  5%|▌         | 21/390 [00:03<01:07,  5.49it/s]wandb: Network error (TransientError), entering retry loop.\n",
      "391it [01:11,  5.47it/s]                         \n"
     ]
    },
    {
     "name": "stdout",
     "output_type": "stream",
     "text": [
      "Epoch 4 of 100\n",
      "Generator loss: 3.37014675, Discriminator loss: 0.66051209\n"
     ]
    },
    {
     "name": "stderr",
     "output_type": "stream",
     "text": [
      "  5%|▌         | 21/390 [00:03<01:06,  5.52it/s]wandb: Network error (TransientError), entering retry loop.\n",
      "391it [01:11,  5.48it/s]                         \n"
     ]
    },
    {
     "name": "stdout",
     "output_type": "stream",
     "text": [
      "Epoch 5 of 100\n",
      "Generator loss: 3.01004815, Discriminator loss: 0.71475965\n"
     ]
    },
    {
     "name": "stderr",
     "output_type": "stream",
     "text": [
      "  4%|▎         | 14/390 [00:02<01:08,  5.49it/s]wandb: Network error (TransientError), entering retry loop.\n",
      "391it [01:11,  5.48it/s]                         \n"
     ]
    },
    {
     "name": "stdout",
     "output_type": "stream",
     "text": [
      "Epoch 6 of 100\n",
      "Generator loss: 2.81503701, Discriminator loss: 0.74951339\n"
     ]
    },
    {
     "name": "stderr",
     "output_type": "stream",
     "text": [
      "  5%|▌         | 21/390 [00:03<01:07,  5.47it/s]wandb: Network error (TransientError), entering retry loop.\n",
      "391it [01:11,  5.48it/s]                         \n"
     ]
    },
    {
     "name": "stdout",
     "output_type": "stream",
     "text": [
      "Epoch 7 of 100\n",
      "Generator loss: 2.65225649, Discriminator loss: 0.77673125\n"
     ]
    },
    {
     "name": "stderr",
     "output_type": "stream",
     "text": [
      "  5%|▌         | 20/390 [00:03<01:07,  5.49it/s]wandb: Network error (TransientError), entering retry loop.\n",
      "391it [01:11,  5.48it/s]                         \n"
     ]
    },
    {
     "name": "stdout",
     "output_type": "stream",
     "text": [
      "Epoch 8 of 100\n",
      "Generator loss: 2.52699161, Discriminator loss: 0.81242818\n"
     ]
    },
    {
     "name": "stderr",
     "output_type": "stream",
     "text": [
      "  3%|▎         | 10/390 [00:01<01:09,  5.50it/s]wandb: Network error (TransientError), entering retry loop.\n",
      "wandb: Network error (TransientError), entering retry loop.\n",
      "391it [01:11,  5.48it/s]                         \n"
     ]
    },
    {
     "name": "stdout",
     "output_type": "stream",
     "text": [
      "Epoch 9 of 100\n",
      "Generator loss: 2.51430988, Discriminator loss: 0.79310471\n"
     ]
    },
    {
     "name": "stderr",
     "output_type": "stream",
     "text": [
      "  3%|▎         | 10/390 [00:01<01:09,  5.49it/s]wandb: Network error (TransientError), entering retry loop.\n",
      "  6%|▌         | 22/390 [00:04<01:07,  5.48it/s]wandb: Network error (TransientError), entering retry loop.\n",
      "391it [01:11,  5.48it/s]                         \n"
     ]
    },
    {
     "name": "stdout",
     "output_type": "stream",
     "text": [
      "Epoch 10 of 100\n",
      "Generator loss: 2.47629905, Discriminator loss: 0.82817537\n"
     ]
    },
    {
     "name": "stderr",
     "output_type": "stream",
     "text": [
      "  6%|▌         | 22/390 [00:04<01:07,  5.47it/s]wandb: Network error (TransientError), entering retry loop.\n",
      "391it [01:11,  5.48it/s]                         \n"
     ]
    },
    {
     "name": "stdout",
     "output_type": "stream",
     "text": [
      "Epoch 11 of 100\n",
      "Generator loss: 2.66570354, Discriminator loss: 0.74231982\n"
     ]
    },
    {
     "name": "stderr",
     "output_type": "stream",
     "text": [
      "  6%|▌         | 22/390 [00:03<01:07,  5.49it/s]wandb: Network error (TransientError), entering retry loop.\n",
      "391it [01:11,  5.48it/s]                         \n"
     ]
    },
    {
     "name": "stdout",
     "output_type": "stream",
     "text": [
      "Epoch 12 of 100\n",
      "Generator loss: 2.92196584, Discriminator loss: 0.70997179\n"
     ]
    },
    {
     "name": "stderr",
     "output_type": "stream",
     "text": [
      "  3%|▎         | 10/390 [00:01<01:09,  5.50it/s]wandb: Network error (TransientError), entering retry loop.\n",
      "391it [01:11,  5.48it/s]                         \n"
     ]
    },
    {
     "name": "stdout",
     "output_type": "stream",
     "text": [
      "Epoch 13 of 100\n",
      "Generator loss: 2.76604486, Discriminator loss: 0.75852740\n"
     ]
    },
    {
     "name": "stderr",
     "output_type": "stream",
     "text": [
      "  6%|▌         | 22/390 [00:04<01:07,  5.48it/s]wandb: Network error (TransientError), entering retry loop.\n",
      "391it [01:11,  5.48it/s]                         \n"
     ]
    },
    {
     "name": "stdout",
     "output_type": "stream",
     "text": [
      "Epoch 14 of 100\n",
      "Generator loss: 2.52898765, Discriminator loss: 0.79605937\n"
     ]
    },
    {
     "name": "stderr",
     "output_type": "stream",
     "text": [
      "391it [01:11,  5.48it/s]                         \n"
     ]
    },
    {
     "name": "stdout",
     "output_type": "stream",
     "text": [
      "Epoch 15 of 100\n",
      "Generator loss: 3.17176032, Discriminator loss: 0.59560215\n"
     ]
    },
    {
     "name": "stderr",
     "output_type": "stream",
     "text": [
      " 34%|███▍      | 132/390 [00:24<00:46,  5.49it/s]wandb: Network error (TransientError), entering retry loop.\n",
      " 50%|█████     | 195/390 [00:35<00:35,  5.48it/s]wandb: Network error (TransientError), entering retry loop.\n",
      "391it [01:11,  5.48it/s]                         \n"
     ]
    },
    {
     "name": "stdout",
     "output_type": "stream",
     "text": [
      "Epoch 16 of 100\n",
      "Generator loss: 3.16646194, Discriminator loss: 0.62921357\n"
     ]
    },
    {
     "name": "stderr",
     "output_type": "stream",
     "text": [
      "  4%|▍         | 16/390 [00:02<01:08,  5.46it/s]wandb: Network error (TransientError), entering retry loop.\n",
      "391it [01:11,  5.48it/s]                         \n"
     ]
    },
    {
     "name": "stdout",
     "output_type": "stream",
     "text": [
      "Epoch 17 of 100\n",
      "Generator loss: 2.74290538, Discriminator loss: 0.80354273\n"
     ]
    },
    {
     "name": "stderr",
     "output_type": "stream",
     "text": [
      "  6%|▌         | 24/390 [00:04<01:06,  5.47it/s]wandb: Network error (TransientError), entering retry loop.\n",
      "391it [01:11,  5.48it/s]                         \n"
     ]
    },
    {
     "name": "stdout",
     "output_type": "stream",
     "text": [
      "Epoch 18 of 100\n",
      "Generator loss: 2.97490430, Discriminator loss: 0.66768885\n"
     ]
    },
    {
     "name": "stderr",
     "output_type": "stream",
     "text": [
      "  5%|▌         | 21/390 [00:03<01:07,  5.50it/s]wandb: Network error (TransientError), entering retry loop.\n",
      "391it [01:11,  5.48it/s]                         \n"
     ]
    },
    {
     "name": "stdout",
     "output_type": "stream",
     "text": [
      "Epoch 19 of 100\n",
      "Generator loss: 2.60776973, Discriminator loss: 0.79553473\n"
     ]
    },
    {
     "name": "stderr",
     "output_type": "stream",
     "text": [
      "  6%|▌         | 23/390 [00:04<01:07,  5.45it/s]wandb: Network error (TransientError), entering retry loop.\n",
      "391it [01:11,  5.48it/s]                         \n"
     ]
    },
    {
     "name": "stdout",
     "output_type": "stream",
     "text": [
      "Epoch 20 of 100\n",
      "Generator loss: 3.27479672, Discriminator loss: 0.57295215\n"
     ]
    },
    {
     "name": "stderr",
     "output_type": "stream",
     "text": [
      "  3%|▎         | 12/390 [00:02<01:09,  5.48it/s]wandb: Network error (TransientError), entering retry loop.\n",
      "391it [01:11,  5.48it/s]                         \n"
     ]
    },
    {
     "name": "stdout",
     "output_type": "stream",
     "text": [
      "Epoch 21 of 100\n",
      "Generator loss: 3.56539440, Discriminator loss: 0.58760166\n"
     ]
    },
    {
     "name": "stderr",
     "output_type": "stream",
     "text": [
      "  6%|▌         | 22/390 [00:04<01:07,  5.46it/s]wandb: Network error (TransientError), entering retry loop.\n",
      "391it [01:11,  5.48it/s]                         \n"
     ]
    },
    {
     "name": "stdout",
     "output_type": "stream",
     "text": [
      "Epoch 22 of 100\n",
      "Generator loss: 2.85381818, Discriminator loss: 0.72473711\n"
     ]
    },
    {
     "name": "stderr",
     "output_type": "stream",
     "text": [
      "  5%|▌         | 21/390 [00:03<01:07,  5.45it/s]wandb: Network error (TransientError), entering retry loop.\n",
      "391it [01:11,  5.48it/s]                         \n"
     ]
    },
    {
     "name": "stdout",
     "output_type": "stream",
     "text": [
      "Epoch 23 of 100\n",
      "Generator loss: 2.32585216, Discriminator loss: 0.83268660\n"
     ]
    },
    {
     "name": "stderr",
     "output_type": "stream",
     "text": [
      "  6%|▌         | 22/390 [00:03<01:07,  5.49it/s]wandb: Network error (TransientError), entering retry loop.\n",
      "391it [01:11,  5.48it/s]                         \n"
     ]
    },
    {
     "name": "stdout",
     "output_type": "stream",
     "text": [
      "Epoch 24 of 100\n",
      "Generator loss: 3.28927135, Discriminator loss: 0.56963676\n"
     ]
    },
    {
     "name": "stderr",
     "output_type": "stream",
     "text": [
      "  2%|▏         | 9/390 [00:01<01:09,  5.45it/s]wandb: Network error (TransientError), entering retry loop.\n",
      "  3%|▎         | 10/390 [00:01<01:09,  5.47it/s]wandb: Network error (TransientError), entering retry loop.\n",
      "391it [01:11,  5.48it/s]                         \n"
     ]
    },
    {
     "name": "stdout",
     "output_type": "stream",
     "text": [
      "Epoch 25 of 100\n",
      "Generator loss: 6.44493723, Discriminator loss: 0.01188779\n"
     ]
    },
    {
     "name": "stderr",
     "output_type": "stream",
     "text": [
      "  5%|▌         | 21/390 [00:03<01:07,  5.48it/s]wandb: Network error (TransientError), entering retry loop.\n",
      "391it [01:11,  5.48it/s]                         \n"
     ]
    },
    {
     "name": "stdout",
     "output_type": "stream",
     "text": [
      "Epoch 26 of 100\n",
      "Generator loss: 9.81646919, Discriminator loss: 0.00298075\n"
     ]
    },
    {
     "name": "stderr",
     "output_type": "stream",
     "text": [
      "  5%|▌         | 21/390 [00:03<01:07,  5.48it/s]wandb: Network error (TransientError), entering retry loop.\n",
      "391it [01:11,  5.48it/s]                         \n"
     ]
    },
    {
     "name": "stdout",
     "output_type": "stream",
     "text": [
      "Epoch 27 of 100\n",
      "Generator loss: 36.19839478, Discriminator loss: 0.00003657\n"
     ]
    },
    {
     "name": "stderr",
     "output_type": "stream",
     "text": [
      "  6%|▌         | 22/390 [00:03<01:07,  5.48it/s]wandb: Network error (TransientError), entering retry loop.\n",
      "391it [01:11,  5.48it/s]                         \n"
     ]
    },
    {
     "name": "stdout",
     "output_type": "stream",
     "text": [
      "Epoch 28 of 100\n",
      "Generator loss: 10.29949474, Discriminator loss: 0.32405505\n"
     ]
    },
    {
     "name": "stderr",
     "output_type": "stream",
     "text": [
      "  2%|▏         | 9/390 [00:01<01:09,  5.51it/s]wandb: Network error (TransientError), entering retry loop.\n",
      "  7%|▋         | 27/390 [00:04<01:06,  5.45it/s]wandb: Network error (TransientError), entering retry loop.\n",
      "391it [01:11,  5.48it/s]                         \n"
     ]
    },
    {
     "name": "stdout",
     "output_type": "stream",
     "text": [
      "Epoch 29 of 100\n",
      "Generator loss: 5.07456684, Discriminator loss: 0.33373094\n"
     ]
    },
    {
     "name": "stderr",
     "output_type": "stream",
     "text": [
      "  3%|▎         | 11/390 [00:01<01:09,  5.45it/s]wandb: Network error (TransientError), entering retry loop.\n",
      "391it [01:11,  5.48it/s]                         \n"
     ]
    },
    {
     "name": "stdout",
     "output_type": "stream",
     "text": [
      "Epoch 30 of 100\n",
      "Generator loss: 4.42169714, Discriminator loss: 0.42608735\n"
     ]
    },
    {
     "name": "stderr",
     "output_type": "stream",
     "text": [
      "  3%|▎         | 10/390 [00:01<01:08,  5.54it/s]wandb: Network error (TransientError), entering retry loop.\n",
      "wandb: Network error (TransientError), entering retry loop.\n",
      "391it [01:11,  5.48it/s]                         \n"
     ]
    },
    {
     "name": "stdout",
     "output_type": "stream",
     "text": [
      "Epoch 31 of 100\n",
      "Generator loss: 4.79573059, Discriminator loss: 0.35785317\n"
     ]
    },
    {
     "name": "stderr",
     "output_type": "stream",
     "text": [
      "  6%|▌         | 23/390 [00:04<01:07,  5.47it/s]wandb: Network error (TransientError), entering retry loop.\n",
      "391it [01:11,  5.48it/s]                         \n"
     ]
    },
    {
     "name": "stdout",
     "output_type": "stream",
     "text": [
      "Epoch 32 of 100\n",
      "Generator loss: 3.43703055, Discriminator loss: 0.53043753\n"
     ]
    },
    {
     "name": "stderr",
     "output_type": "stream",
     "text": [
      "391it [01:11,  5.48it/s]                         \n"
     ]
    },
    {
     "name": "stdout",
     "output_type": "stream",
     "text": [
      "Epoch 33 of 100\n",
      "Generator loss: 3.10392451, Discriminator loss: 0.59949195\n"
     ]
    },
    {
     "name": "stderr",
     "output_type": "stream",
     "text": [
      "  3%|▎         | 10/390 [00:01<01:08,  5.53it/s]wandb: Network error (TransientError), entering retry loop.\n",
      "391it [01:11,  5.48it/s]                         \n"
     ]
    },
    {
     "name": "stdout",
     "output_type": "stream",
     "text": [
      "Epoch 34 of 100\n",
      "Generator loss: 3.34597611, Discriminator loss: 0.56848323\n"
     ]
    },
    {
     "name": "stderr",
     "output_type": "stream",
     "text": [
      "  4%|▍         | 15/390 [00:02<01:08,  5.48it/s]wandb: Network error (TransientError), entering retry loop.\n",
      "391it [01:11,  5.48it/s]                         \n"
     ]
    },
    {
     "name": "stdout",
     "output_type": "stream",
     "text": [
      "Epoch 35 of 100\n",
      "Generator loss: 3.02528930, Discriminator loss: 0.56178910\n"
     ]
    },
    {
     "name": "stderr",
     "output_type": "stream",
     "text": [
      "  6%|▌         | 24/390 [00:04<01:06,  5.49it/s]wandb: Network error (TransientError), entering retry loop.\n",
      "391it [01:11,  5.48it/s]                         \n"
     ]
    },
    {
     "name": "stdout",
     "output_type": "stream",
     "text": [
      "Epoch 36 of 100\n",
      "Generator loss: 6.24909639, Discriminator loss: 0.01053905\n"
     ]
    },
    {
     "name": "stderr",
     "output_type": "stream",
     "text": [
      "  3%|▎         | 10/390 [00:01<01:08,  5.52it/s]wandb: Network error (TransientError), entering retry loop.\n",
      "391it [01:11,  5.48it/s]                         \n"
     ]
    },
    {
     "name": "stdout",
     "output_type": "stream",
     "text": [
      "Epoch 37 of 100\n",
      "Generator loss: 7.50743294, Discriminator loss: 0.00294559\n"
     ]
    },
    {
     "name": "stderr",
     "output_type": "stream",
     "text": [
      "  6%|▌         | 22/390 [00:03<01:06,  5.55it/s]wandb: Network error (TransientError), entering retry loop.\n",
      "391it [01:11,  5.48it/s]                         \n"
     ]
    },
    {
     "name": "stdout",
     "output_type": "stream",
     "text": [
      "Epoch 38 of 100\n",
      "Generator loss: 10.06822968, Discriminator loss: 0.00205073\n"
     ]
    },
    {
     "name": "stderr",
     "output_type": "stream",
     "text": [
      "  5%|▌         | 21/390 [00:03<01:07,  5.47it/s]wandb: Network error (TransientError), entering retry loop.\n",
      "391it [01:11,  5.48it/s]                         \n"
     ]
    },
    {
     "name": "stdout",
     "output_type": "stream",
     "text": [
      "Epoch 39 of 100\n",
      "Generator loss: 9.39214325, Discriminator loss: 0.22320865\n"
     ]
    },
    {
     "name": "stderr",
     "output_type": "stream",
     "text": [
      "  6%|▌         | 24/390 [00:04<01:06,  5.47it/s]wandb: Network error (TransientError), entering retry loop.\n",
      "391it [01:11,  5.48it/s]                         \n"
     ]
    },
    {
     "name": "stdout",
     "output_type": "stream",
     "text": [
      "Epoch 40 of 100\n",
      "Generator loss: 6.17925882, Discriminator loss: 0.22265479\n"
     ]
    },
    {
     "name": "stderr",
     "output_type": "stream",
     "text": [
      " 12%|█▏        | 46/390 [00:08<01:03,  5.45it/s]wandb: Network error (TransientError), entering retry loop.\n",
      "wandb: Network error (TransientError), entering retry loop.\n",
      "391it [01:11,  5.48it/s]                         \n"
     ]
    },
    {
     "name": "stdout",
     "output_type": "stream",
     "text": [
      "Epoch 41 of 100\n",
      "Generator loss: 5.59824181, Discriminator loss: 0.23347664\n"
     ]
    },
    {
     "name": "stderr",
     "output_type": "stream",
     "text": [
      "  5%|▌         | 21/390 [00:03<01:07,  5.48it/s]wandb: Network error (TransientError), entering retry loop.\n",
      "391it [01:11,  5.48it/s]                         \n"
     ]
    },
    {
     "name": "stdout",
     "output_type": "stream",
     "text": [
      "Epoch 42 of 100\n",
      "Generator loss: 5.12131882, Discriminator loss: 0.24492836\n"
     ]
    },
    {
     "name": "stderr",
     "output_type": "stream",
     "text": [
      "  6%|▌         | 22/390 [00:03<01:07,  5.48it/s]wandb: Network error (TransientError), entering retry loop.\n",
      "391it [01:11,  5.48it/s]                         \n"
     ]
    },
    {
     "name": "stdout",
     "output_type": "stream",
     "text": [
      "Epoch 43 of 100\n",
      "Generator loss: 4.77197123, Discriminator loss: 0.32858896\n"
     ]
    },
    {
     "name": "stderr",
     "output_type": "stream",
     "text": [
      "  3%|▎         | 10/390 [00:01<01:08,  5.51it/s]wandb: Network error (TransientError), entering retry loop.\n",
      "391it [01:11,  5.48it/s]                         \n"
     ]
    },
    {
     "name": "stdout",
     "output_type": "stream",
     "text": [
      "Epoch 44 of 100\n",
      "Generator loss: 5.46759319, Discriminator loss: 0.28676251\n"
     ]
    },
    {
     "name": "stderr",
     "output_type": "stream",
     "text": [
      "  6%|▌         | 24/390 [00:04<01:06,  5.48it/s]wandb: Network error (TransientError), entering retry loop.\n",
      "391it [01:11,  5.48it/s]                         \n"
     ]
    },
    {
     "name": "stdout",
     "output_type": "stream",
     "text": [
      "Epoch 45 of 100\n",
      "Generator loss: 4.22984171, Discriminator loss: 0.28647029\n"
     ]
    },
    {
     "name": "stderr",
     "output_type": "stream",
     "text": [
      "  6%|▌         | 23/390 [00:04<01:06,  5.48it/s]wandb: Network error (TransientError), entering retry loop.\n",
      "391it [01:11,  5.48it/s]                         \n"
     ]
    },
    {
     "name": "stdout",
     "output_type": "stream",
     "text": [
      "Epoch 46 of 100\n",
      "Generator loss: 4.42332697, Discriminator loss: 0.33859429\n"
     ]
    },
    {
     "name": "stderr",
     "output_type": "stream",
     "text": [
      "  4%|▎         | 14/390 [00:02<01:08,  5.49it/s]wandb: Network error (TransientError), entering retry loop.\n",
      "391it [01:11,  5.48it/s]                         \n"
     ]
    },
    {
     "name": "stdout",
     "output_type": "stream",
     "text": [
      "Epoch 47 of 100\n",
      "Generator loss: 3.95581007, Discriminator loss: 0.32785505\n"
     ]
    },
    {
     "name": "stderr",
     "output_type": "stream",
     "text": [
      "  9%|▉         | 35/390 [00:06<01:04,  5.47it/s]wandb: Network error (TransientError), entering retry loop.\n",
      "391it [01:11,  5.48it/s]                         \n"
     ]
    },
    {
     "name": "stdout",
     "output_type": "stream",
     "text": [
      "Epoch 48 of 100\n",
      "Generator loss: 3.91676736, Discriminator loss: 0.44592068\n"
     ]
    },
    {
     "name": "stderr",
     "output_type": "stream",
     "text": [
      "  5%|▍         | 18/390 [00:03<01:08,  5.47it/s]wandb: Network error (TransientError), entering retry loop.\n",
      "391it [01:11,  5.48it/s]                         \n"
     ]
    },
    {
     "name": "stdout",
     "output_type": "stream",
     "text": [
      "Epoch 49 of 100\n",
      "Generator loss: 3.92642760, Discriminator loss: 0.32722631\n"
     ]
    },
    {
     "name": "stderr",
     "output_type": "stream",
     "text": [
      "  3%|▎         | 10/390 [00:01<01:08,  5.52it/s]wandb: Network error (TransientError), entering retry loop.\n",
      "wandb: Network error (TransientError), entering retry loop.\n",
      "391it [01:11,  5.48it/s]                         \n"
     ]
    },
    {
     "name": "stdout",
     "output_type": "stream",
     "text": [
      "Epoch 50 of 100\n",
      "Generator loss: 3.88638425, Discriminator loss: 0.40661094\n"
     ]
    },
    {
     "name": "stderr",
     "output_type": "stream",
     "text": [
      "  2%|▏         | 8/390 [00:01<01:09,  5.49it/s]wandb: Network error (TransientError), entering retry loop.\n",
      "  2%|▏         | 9/390 [00:01<01:09,  5.49it/s]wandb: Network error (TransientError), entering retry loop.\n",
      "391it [01:11,  5.48it/s]                         \n"
     ]
    },
    {
     "name": "stdout",
     "output_type": "stream",
     "text": [
      "Epoch 51 of 100\n",
      "Generator loss: 4.40419817, Discriminator loss: 0.33900547\n"
     ]
    },
    {
     "name": "stderr",
     "output_type": "stream",
     "text": [
      "391it [01:11,  5.48it/s]                         \n"
     ]
    },
    {
     "name": "stdout",
     "output_type": "stream",
     "text": [
      "Epoch 52 of 100\n",
      "Generator loss: 3.69660163, Discriminator loss: 0.49548337\n"
     ]
    },
    {
     "name": "stderr",
     "output_type": "stream",
     "text": [
      "  5%|▌         | 21/390 [00:03<01:07,  5.49it/s]wandb: Network error (TransientError), entering retry loop.\n",
      "391it [01:11,  5.48it/s]                         \n"
     ]
    },
    {
     "name": "stdout",
     "output_type": "stream",
     "text": [
      "Epoch 53 of 100\n",
      "Generator loss: 3.69496799, Discriminator loss: 0.42936751\n"
     ]
    },
    {
     "name": "stderr",
     "output_type": "stream",
     "text": [
      "  6%|▌         | 23/390 [00:04<01:06,  5.50it/s]wandb: Network error (TransientError), entering retry loop.\n",
      "391it [01:11,  5.48it/s]                         \n"
     ]
    },
    {
     "name": "stdout",
     "output_type": "stream",
     "text": [
      "Epoch 54 of 100\n",
      "Generator loss: 3.47730994, Discriminator loss: 0.45708707\n"
     ]
    },
    {
     "name": "stderr",
     "output_type": "stream",
     "text": [
      "  3%|▎         | 11/390 [00:01<01:09,  5.46it/s]wandb: Network error (TransientError), entering retry loop.\n",
      "391it [01:11,  5.48it/s]                         \n"
     ]
    },
    {
     "name": "stdout",
     "output_type": "stream",
     "text": [
      "Epoch 55 of 100\n",
      "Generator loss: 4.18110561, Discriminator loss: 0.37580383\n"
     ]
    },
    {
     "name": "stderr",
     "output_type": "stream",
     "text": [
      "  3%|▎         | 10/390 [00:01<01:09,  5.50it/s]wandb: Network error (TransientError), entering retry loop.\n",
      "wandb: Network error (TransientError), entering retry loop.\n",
      "391it [01:11,  5.48it/s]                         \n"
     ]
    },
    {
     "name": "stdout",
     "output_type": "stream",
     "text": [
      "Epoch 56 of 100\n",
      "Generator loss: 3.80329657, Discriminator loss: 0.39795956\n"
     ]
    },
    {
     "name": "stderr",
     "output_type": "stream",
     "text": [
      "  4%|▍         | 16/390 [00:02<01:08,  5.47it/s]wandb: Network error (TransientError), entering retry loop.\n",
      "391it [01:11,  5.48it/s]                         \n"
     ]
    },
    {
     "name": "stdout",
     "output_type": "stream",
     "text": [
      "Epoch 57 of 100\n",
      "Generator loss: 3.40458107, Discriminator loss: 0.51427960\n"
     ]
    },
    {
     "name": "stderr",
     "output_type": "stream",
     "text": [
      "  3%|▎         | 11/390 [00:01<01:09,  5.48it/s]wandb: Network error (TransientError), entering retry loop.\n",
      "391it [01:11,  5.48it/s]                         \n"
     ]
    },
    {
     "name": "stdout",
     "output_type": "stream",
     "text": [
      "Epoch 58 of 100\n",
      "Generator loss: 4.11950397, Discriminator loss: 0.34933355\n"
     ]
    },
    {
     "name": "stderr",
     "output_type": "stream",
     "text": [
      "  3%|▎         | 11/390 [00:01<01:09,  5.45it/s]wandb: Network error (TransientError), entering retry loop.\n",
      "391it [01:11,  5.48it/s]                         \n"
     ]
    },
    {
     "name": "stdout",
     "output_type": "stream",
     "text": [
      "Epoch 59 of 100\n",
      "Generator loss: 3.83930874, Discriminator loss: 0.48617163\n"
     ]
    },
    {
     "name": "stderr",
     "output_type": "stream",
     "text": [
      " 24%|██▍       | 95/390 [00:17<00:54,  5.45it/s]wandb: Network error (TransientError), entering retry loop.\n",
      "391it [01:11,  5.48it/s]                         \n"
     ]
    },
    {
     "name": "stdout",
     "output_type": "stream",
     "text": [
      "Epoch 60 of 100\n",
      "Generator loss: 3.94551229, Discriminator loss: 0.38034537\n"
     ]
    },
    {
     "name": "stderr",
     "output_type": "stream",
     "text": [
      "  8%|▊         | 33/390 [00:06<01:04,  5.50it/s]wandb: Network error (TransientError), entering retry loop.\n",
      "391it [01:11,  5.48it/s]                         \n"
     ]
    },
    {
     "name": "stdout",
     "output_type": "stream",
     "text": [
      "Epoch 61 of 100\n",
      "Generator loss: 3.40077353, Discriminator loss: 0.51115626\n"
     ]
    },
    {
     "name": "stderr",
     "output_type": "stream",
     "text": [
      "  3%|▎         | 11/390 [00:01<01:08,  5.53it/s]wandb: Network error (TransientError), entering retry loop.\n",
      "391it [01:11,  5.48it/s]                         \n"
     ]
    },
    {
     "name": "stdout",
     "output_type": "stream",
     "text": [
      "Epoch 62 of 100\n",
      "Generator loss: 3.44694591, Discriminator loss: 0.54954720\n"
     ]
    },
    {
     "name": "stderr",
     "output_type": "stream",
     "text": [
      "391it [01:11,  5.48it/s]                         \n"
     ]
    },
    {
     "name": "stdout",
     "output_type": "stream",
     "text": [
      "Epoch 63 of 100\n",
      "Generator loss: 4.17127991, Discriminator loss: 0.34259430\n"
     ]
    },
    {
     "name": "stderr",
     "output_type": "stream",
     "text": [
      "  4%|▍         | 17/390 [00:03<01:07,  5.49it/s]wandb: Network error (TransientError), entering retry loop.\n",
      "391it [01:11,  5.48it/s]                         \n"
     ]
    },
    {
     "name": "stdout",
     "output_type": "stream",
     "text": [
      "Epoch 64 of 100\n",
      "Generator loss: 3.64553642, Discriminator loss: 0.52254355\n"
     ]
    },
    {
     "name": "stderr",
     "output_type": "stream",
     "text": [
      "391it [01:11,  5.48it/s]                         \n"
     ]
    },
    {
     "name": "stdout",
     "output_type": "stream",
     "text": [
      "Epoch 65 of 100\n",
      "Generator loss: 3.60728240, Discriminator loss: 0.43799415\n"
     ]
    },
    {
     "name": "stderr",
     "output_type": "stream",
     "text": [
      "  5%|▌         | 21/390 [00:03<01:07,  5.48it/s]wandb: Network error (TransientError), entering retry loop.\n",
      "391it [01:11,  5.48it/s]                         \n"
     ]
    },
    {
     "name": "stdout",
     "output_type": "stream",
     "text": [
      "Epoch 66 of 100\n",
      "Generator loss: 4.50951576, Discriminator loss: 0.35962012\n"
     ]
    },
    {
     "name": "stderr",
     "output_type": "stream",
     "text": [
      "  4%|▎         | 14/390 [00:02<01:08,  5.51it/s]wandb: Network error (TransientError), entering retry loop.\n",
      "391it [01:11,  5.48it/s]                         \n"
     ]
    },
    {
     "name": "stdout",
     "output_type": "stream",
     "text": [
      "Epoch 67 of 100\n",
      "Generator loss: 3.55597353, Discriminator loss: 0.43032169\n"
     ]
    },
    {
     "name": "stderr",
     "output_type": "stream",
     "text": [
      "  3%|▎         | 10/390 [00:01<01:09,  5.48it/s]wandb: Network error (TransientError), entering retry loop.\n",
      "391it [01:11,  5.48it/s]                         \n"
     ]
    },
    {
     "name": "stdout",
     "output_type": "stream",
     "text": [
      "Epoch 68 of 100\n",
      "Generator loss: 3.61078072, Discriminator loss: 0.47644475\n"
     ]
    },
    {
     "name": "stderr",
     "output_type": "stream",
     "text": [
      "  3%|▎         | 12/390 [00:02<01:09,  5.48it/s]wandb: Network error (TransientError), entering retry loop.\n",
      "391it [01:11,  5.48it/s]                         \n"
     ]
    },
    {
     "name": "stdout",
     "output_type": "stream",
     "text": [
      "Epoch 69 of 100\n",
      "Generator loss: 5.18898153, Discriminator loss: 0.14822917\n"
     ]
    },
    {
     "name": "stderr",
     "output_type": "stream",
     "text": [
      "  1%|▏         | 5/390 [00:00<01:09,  5.54it/s]wandb: Network error (TransientError), entering retry loop.\n",
      "wandb: Network error (TransientError), entering retry loop.\n",
      "391it [01:11,  5.48it/s]                         \n"
     ]
    },
    {
     "name": "stdout",
     "output_type": "stream",
     "text": [
      "Epoch 70 of 100\n",
      "Generator loss: 4.62501621, Discriminator loss: 0.39286992\n"
     ]
    },
    {
     "name": "stderr",
     "output_type": "stream",
     "text": [
      "  3%|▎         | 10/390 [00:01<01:09,  5.49it/s]wandb: Network error (TransientError), entering retry loop.\n",
      "391it [01:11,  5.48it/s]                         \n"
     ]
    },
    {
     "name": "stdout",
     "output_type": "stream",
     "text": [
      "Epoch 71 of 100\n",
      "Generator loss: 3.83316445, Discriminator loss: 0.43172976\n"
     ]
    },
    {
     "name": "stderr",
     "output_type": "stream",
     "text": [
      "  6%|▌         | 23/390 [00:04<01:07,  5.48it/s]wandb: Network error (TransientError), entering retry loop.\n",
      "391it [01:11,  5.48it/s]                         \n"
     ]
    },
    {
     "name": "stdout",
     "output_type": "stream",
     "text": [
      "Epoch 72 of 100\n",
      "Generator loss: 3.95521975, Discriminator loss: 0.41817480\n"
     ]
    },
    {
     "name": "stderr",
     "output_type": "stream",
     "text": [
      "  4%|▎         | 14/390 [00:02<01:08,  5.47it/s]wandb: Network error (TransientError), entering retry loop.\n",
      "391it [01:11,  5.48it/s]                         \n"
     ]
    },
    {
     "name": "stdout",
     "output_type": "stream",
     "text": [
      "Epoch 73 of 100\n",
      "Generator loss: 5.50175858, Discriminator loss: 0.22357364\n"
     ]
    },
    {
     "name": "stderr",
     "output_type": "stream",
     "text": [
      "  3%|▎         | 10/390 [00:01<01:09,  5.49it/s]wandb: Network error (TransientError), entering retry loop.\n",
      "391it [01:11,  5.48it/s]                         \n"
     ]
    },
    {
     "name": "stdout",
     "output_type": "stream",
     "text": [
      "Epoch 74 of 100\n",
      "Generator loss: 3.54394197, Discriminator loss: 0.50945318\n"
     ]
    },
    {
     "name": "stderr",
     "output_type": "stream",
     "text": [
      "391it [01:11,  5.48it/s]                         \n"
     ]
    },
    {
     "name": "stdout",
     "output_type": "stream",
     "text": [
      "Epoch 75 of 100\n",
      "Generator loss: 3.29136014, Discriminator loss: 0.42109489\n"
     ]
    },
    {
     "name": "stderr",
     "output_type": "stream",
     "text": [
      "391it [01:11,  5.48it/s]                         \n"
     ]
    },
    {
     "name": "stdout",
     "output_type": "stream",
     "text": [
      "Epoch 76 of 100\n",
      "Generator loss: 4.57742262, Discriminator loss: 0.30787602\n"
     ]
    },
    {
     "name": "stderr",
     "output_type": "stream",
     "text": [
      "391it [01:11,  5.48it/s]                         \n"
     ]
    },
    {
     "name": "stdout",
     "output_type": "stream",
     "text": [
      "Epoch 77 of 100\n",
      "Generator loss: 3.37412596, Discriminator loss: 0.51876253\n"
     ]
    },
    {
     "name": "stderr",
     "output_type": "stream",
     "text": [
      " 22%|██▏       | 84/390 [00:15<00:56,  5.46it/s]wandb: Network error (TransientError), entering retry loop.\n",
      "391it [01:11,  5.48it/s]                         \n"
     ]
    },
    {
     "name": "stdout",
     "output_type": "stream",
     "text": [
      "Epoch 78 of 100\n",
      "Generator loss: 3.92597532, Discriminator loss: 0.35201147\n"
     ]
    },
    {
     "name": "stderr",
     "output_type": "stream",
     "text": [
      "  3%|▎         | 11/390 [00:01<01:09,  5.45it/s]wandb: Network error (TransientError), entering retry loop.\n",
      "391it [01:11,  5.48it/s]                         \n"
     ]
    },
    {
     "name": "stdout",
     "output_type": "stream",
     "text": [
      "Epoch 79 of 100\n",
      "Generator loss: 4.39771223, Discriminator loss: 0.31511813\n"
     ]
    },
    {
     "name": "stderr",
     "output_type": "stream",
     "text": [
      "391it [01:11,  5.48it/s]                         \n"
     ]
    },
    {
     "name": "stdout",
     "output_type": "stream",
     "text": [
      "Epoch 80 of 100\n",
      "Generator loss: 3.64267063, Discriminator loss: 0.53466523\n"
     ]
    },
    {
     "name": "stderr",
     "output_type": "stream",
     "text": [
      "391it [01:11,  5.48it/s]                         \n"
     ]
    },
    {
     "name": "stdout",
     "output_type": "stream",
     "text": [
      "Epoch 81 of 100\n",
      "Generator loss: 4.06829023, Discriminator loss: 0.38234842\n"
     ]
    },
    {
     "name": "stderr",
     "output_type": "stream",
     "text": [
      "391it [01:11,  5.48it/s]                         \n"
     ]
    },
    {
     "name": "stdout",
     "output_type": "stream",
     "text": [
      "Epoch 82 of 100\n",
      "Generator loss: 5.09508562, Discriminator loss: 0.25314346\n"
     ]
    },
    {
     "name": "stderr",
     "output_type": "stream",
     "text": [
      "  6%|▌         | 23/390 [00:04<01:06,  5.48it/s]wandb: Network error (TransientError), entering retry loop.\n",
      "391it [01:11,  5.48it/s]                         \n"
     ]
    },
    {
     "name": "stdout",
     "output_type": "stream",
     "text": [
      "Epoch 83 of 100\n",
      "Generator loss: 3.84747410, Discriminator loss: 0.44158721\n"
     ]
    },
    {
     "name": "stderr",
     "output_type": "stream",
     "text": [
      "391it [01:11,  5.48it/s]                         \n"
     ]
    },
    {
     "name": "stdout",
     "output_type": "stream",
     "text": [
      "Epoch 84 of 100\n",
      "Generator loss: 4.18997049, Discriminator loss: 0.32920024\n"
     ]
    },
    {
     "name": "stderr",
     "output_type": "stream",
     "text": [
      "  3%|▎         | 10/390 [00:01<01:08,  5.54it/s]wandb: Network error (TransientError), entering retry loop.\n",
      "  3%|▎         | 11/390 [00:01<01:08,  5.51it/s]wandb: Network error (TransientError), entering retry loop.\n",
      "391it [01:11,  5.48it/s]                         \n"
     ]
    },
    {
     "name": "stdout",
     "output_type": "stream",
     "text": [
      "Epoch 85 of 100\n",
      "Generator loss: 3.96693945, Discriminator loss: 0.42145893\n"
     ]
    },
    {
     "name": "stderr",
     "output_type": "stream",
     "text": [
      "391it [01:11,  5.48it/s]                         \n"
     ]
    },
    {
     "name": "stdout",
     "output_type": "stream",
     "text": [
      "Epoch 86 of 100\n",
      "Generator loss: 3.81679606, Discriminator loss: 0.41939387\n"
     ]
    },
    {
     "name": "stderr",
     "output_type": "stream",
     "text": [
      "391it [01:11,  5.48it/s]                         \n"
     ]
    },
    {
     "name": "stdout",
     "output_type": "stream",
     "text": [
      "Epoch 87 of 100\n",
      "Generator loss: 3.73594761, Discriminator loss: 0.41244075\n"
     ]
    },
    {
     "name": "stderr",
     "output_type": "stream",
     "text": [
      "391it [01:11,  5.48it/s]                         \n"
     ]
    },
    {
     "name": "stdout",
     "output_type": "stream",
     "text": [
      "Epoch 88 of 100\n",
      "Generator loss: 3.23244667, Discriminator loss: 0.46287984\n"
     ]
    },
    {
     "name": "stderr",
     "output_type": "stream",
     "text": [
      "391it [01:11,  5.48it/s]                         \n"
     ]
    },
    {
     "name": "stdout",
     "output_type": "stream",
     "text": [
      "Epoch 89 of 100\n",
      "Generator loss: 3.68947291, Discriminator loss: 0.47942877\n"
     ]
    },
    {
     "name": "stderr",
     "output_type": "stream",
     "text": [
      "391it [01:11,  5.48it/s]                         \n"
     ]
    },
    {
     "name": "stdout",
     "output_type": "stream",
     "text": [
      "Epoch 90 of 100\n",
      "Generator loss: 4.18500280, Discriminator loss: 0.31706464\n"
     ]
    },
    {
     "name": "stderr",
     "output_type": "stream",
     "text": [
      "391it [01:11,  5.48it/s]                         \n"
     ]
    },
    {
     "name": "stdout",
     "output_type": "stream",
     "text": [
      "Epoch 91 of 100\n",
      "Generator loss: 3.35255146, Discriminator loss: 0.49260810\n"
     ]
    },
    {
     "name": "stderr",
     "output_type": "stream",
     "text": [
      "391it [01:11,  5.48it/s]                         \n"
     ]
    },
    {
     "name": "stdout",
     "output_type": "stream",
     "text": [
      "Epoch 92 of 100\n",
      "Generator loss: 3.82553291, Discriminator loss: 0.40269804\n"
     ]
    },
    {
     "name": "stderr",
     "output_type": "stream",
     "text": [
      "391it [01:11,  5.48it/s]                         \n"
     ]
    },
    {
     "name": "stdout",
     "output_type": "stream",
     "text": [
      "Epoch 93 of 100\n",
      "Generator loss: 6.31676340, Discriminator loss: 0.00809101\n"
     ]
    },
    {
     "name": "stderr",
     "output_type": "stream",
     "text": [
      "391it [01:11,  5.48it/s]                         \n"
     ]
    },
    {
     "name": "stdout",
     "output_type": "stream",
     "text": [
      "Epoch 94 of 100\n",
      "Generator loss: 6.97203493, Discriminator loss: 0.00485094\n"
     ]
    },
    {
     "name": "stderr",
     "output_type": "stream",
     "text": [
      " 17%|█▋        | 67/390 [00:12<00:59,  5.46it/s]wandb: Network error (TransientError), entering retry loop.\n",
      "391it [01:11,  5.48it/s]                         \n"
     ]
    },
    {
     "name": "stdout",
     "output_type": "stream",
     "text": [
      "Epoch 95 of 100\n",
      "Generator loss: 7.92112732, Discriminator loss: 0.00159676\n"
     ]
    },
    {
     "name": "stderr",
     "output_type": "stream",
     "text": [
      "  2%|▏         | 9/390 [00:01<01:09,  5.51it/s]wandb: Network error (TransientError), entering retry loop.\n",
      "391it [01:11,  5.48it/s]                         \n"
     ]
    },
    {
     "name": "stdout",
     "output_type": "stream",
     "text": [
      "Epoch 96 of 100\n",
      "Generator loss: 12.75585461, Discriminator loss: 0.00197017\n"
     ]
    },
    {
     "name": "stderr",
     "output_type": "stream",
     "text": [
      "  4%|▎         | 14/390 [00:02<01:08,  5.49it/s]wandb: Network error (TransientError), entering retry loop.\n",
      "391it [01:11,  5.48it/s]                         \n"
     ]
    },
    {
     "name": "stdout",
     "output_type": "stream",
     "text": [
      "Epoch 97 of 100\n",
      "Generator loss: 10.87322044, Discriminator loss: 0.24537395\n"
     ]
    },
    {
     "name": "stderr",
     "output_type": "stream",
     "text": [
      "391it [01:11,  5.48it/s]                         \n"
     ]
    },
    {
     "name": "stdout",
     "output_type": "stream",
     "text": [
      "Epoch 98 of 100\n",
      "Generator loss: 7.01301956, Discriminator loss: 0.34223095\n"
     ]
    },
    {
     "name": "stderr",
     "output_type": "stream",
     "text": [
      "  3%|▎         | 10/390 [00:01<01:09,  5.49it/s]wandb: Network error (TransientError), entering retry loop.\n",
      "  3%|▎         | 12/390 [00:02<01:09,  5.48it/s]wandb: Network error (TransientError), entering retry loop.\n",
      "391it [01:11,  5.48it/s]                         \n"
     ]
    },
    {
     "name": "stdout",
     "output_type": "stream",
     "text": [
      "Epoch 99 of 100\n",
      "Generator loss: 7.75944662, Discriminator loss: 0.11434238\n"
     ]
    },
    {
     "name": "stderr",
     "output_type": "stream",
     "text": [
      "391it [01:11,  5.48it/s]                         \n"
     ]
    },
    {
     "name": "stdout",
     "output_type": "stream",
     "text": [
      "Epoch 100 of 100\n",
      "Generator loss: 5.82855606, Discriminator loss: 0.12916584\n",
      "DONE TRAINING\n"
     ]
    },
    {
     "data": {
      "image/png": "[encoded data removed]",
      "text/plain": [
       "<Figure size 640x480 with 1 Axes>"
      ]
     },
     "metadata": {},
     "output_type": "display_data"
    },
    {
     "name": "stderr",
     "output_type": "stream",
     "text": [
      "wandb: Network error (TransientError), entering retry loop.\n",
      "wandb: Network error (TransientError), entering retry loop.\n"
     ]
    }
   ],
   "source": [
    "for epoch in range(epochs):\n",
    "    loss_g = 0.0\n",
    "    loss_d = 0.0\n",
    "    for bi, data in tqdm(enumerate(train_loader), total=int(len(train_data)/train_loader.batch_size)):\n",
    "        image, _ = data\n",
    "        image = image.to(device)\n",
    "        b_size = len(image)\n",
    "        # forward pass through generator to create fake data\n",
    "        data_fake = generator(create_noise(b_size, nz)).detach()\n",
    "        data_real = image\n",
    "        loss_d += train_discriminator(optim_d, data_real, data_fake)\n",
    "        data_fake = generator(create_noise(b_size, nz))\n",
    "        loss_g += train_generator(optim_g, data_fake)\n",
    "    # final forward pass through generator to create fake data...\n",
    "    # ...after training for current epoch\n",
    "    generated_img = generator(noise).cpu().detach()\n",
    "    # save the generated torch tensor models to disk\n",
    "    save_generator_image(generated_img, f\"./outputs/gen_img{epoch}.png\")\n",
    "    epoch_loss_g = loss_g / bi # total generator loss for the epoch\n",
    "    epoch_loss_d = loss_d / bi # total discriminator loss for the epoch\n",
    "    losses_g.append(epoch_loss_g)\n",
    "    losses_d.append(epoch_loss_d)\n",
    "    wandb.log(\n",
    "        {\n",
    "            \"D_loss_epoch\": epoch_loss_d,\n",
    "            \"G_loss_epoch\": epoch_loss_g,\n",
    "            \"generated_img\": wandb.Image(make_grid(generated_img, nrow=8, normalize=True)),\n",
    "            \"epoch\": epoch+1\n",
    "\n",
    "        }\n",
    "    )\n",
    "    print(f\"Epoch {epoch+1} of {epochs}\")\n",
    "    print(f\"Generator loss: {epoch_loss_g:.8f}, Discriminator loss: {epoch_loss_d:.8f}\")\n",
    "print('DONE TRAINING')\n",
    "# save the model weights to disk\n",
    "torch.save(generator.state_dict(), './outputs/generator.pth')\n",
    "# plot and save the generator and discriminator loss\n",
    "plt.figure()\n",
    "losses_d = [x.item() for x in losses_d]\n",
    "losses_g = [x.item() for x in losses_g]\n",
    "plt.plot(losses_g, label='Generator loss')\n",
    "plt.plot(losses_d, label='Discriminator Loss')\n",
    "plt.legend()\n",
    "plt.savefig('./outputs/loss.png')\n",
    "plt.show()"
   ]
  },
  {
   "cell_type": "code",
   "execution_count": 14,
   "metadata": {},
   "outputs": [
    {
     "name": "stdout",
     "output_type": "stream",
     "text": [
      "DONE TRAINING\n"
     ]
    }
   ],
   "source": [
    "print('DONE TRAINING')\n",
    "# save the model weights to disk\n",
    "torch.save(generator.state_dict(), './outputs/generator.pth')"
   ]
  },
  {
   "cell_type": "code",
   "execution_count": 17,
   "metadata": {},
   "outputs": [
    {
     "data": {
      "image/png": "[encoded data removed]",
      "text/plain": [
       "<Figure size 640x480 with 1 Axes>"
      ]
     },
     "metadata": {},
     "output_type": "display_data"
    }
   ],
   "source": [
    "# plot and save the generator and discriminator loss\n",
    "plt.figure()\n",
    "losses_d = [x.item() for x in losses_d]\n",
    "losses_g = [x.item() for x in losses_g]\n",
    "plt.plot(losses_g, label='Generator loss')\n",
    "plt.plot(losses_d, label='Discriminator Loss')\n",
    "plt.legend()\n",
    "plt.savefig('./outputs/loss.png')\n",
    "plt.show()"
   ]
  },
  {
   "cell_type": "code",
   "execution_count": null,
   "metadata": {},
   "outputs": [],
   "source": []
  }
 ],
 "metadata": {
  "kernelspec": {
   "display_name": "pt",
   "language": "python",
   "name": "python3"
  },
  "language_info": {
   "codemirror_mode": {
    "name": "ipython",
    "version": 3
   },
   "file_extension": ".py",
   "mimetype": "text/x-python",
   "name": "python",
   "nbconvert_exporter": "python",
   "pygments_lexer": "ipython3",
   "version": "3.8.13 (default, Mar 28 2022, 11:38:47) \n[GCC 7.5.0]"
  },
  "orig_nbformat": 4,
  "vscode": {
   "interpreter": {
    "hash": "0309d8ed7dd8a2b067a650184bf138287dc3ac5b65e8a603042037ec1e139bf5"
   }
  }
 },
 "nbformat": 4,
 "nbformat_minor": 2
}
