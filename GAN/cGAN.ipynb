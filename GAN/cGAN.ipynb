{
 "cells": [
  {
   "cell_type": "code",
   "execution_count": 1,
   "metadata": {},
   "outputs": [],
   "source": [
    "import torch\n",
    "from torch import nn, optim, autograd\n",
    "import torchvision\n",
    "import torchvision.transforms as transforms\n",
    "import matplotlib.pyplot as plt\n",
    "import torchvision.utils as vutils\n",
    "from dataclasses import dataclass\n",
    "import time\n",
    "import sys\n",
    "%matplotlib inline\n",
    "# torch.set_num_threads(1)\n",
    "# torch.manual_seed(1)"
   ]
  },
  {
   "cell_type": "code",
   "execution_count": null,
   "metadata": {},
   "outputs": [],
   "source": [
    "@dataclass\n",
    "class Hyperparameter:\n",
    "    num_classes: int        = 10\n",
    "    batchsize: int          = 128\n",
    "    num_epochs: int         = 20\n",
    "    latent_size: int        = 32\n",
    "    n_critic: int           = 5\n",
    "    critic_size: int        = 1024\n",
    "    generator_size: int     = 1024\n",
    "    critic_hidden_size: int = 1024\n",
    "    gp_lambda: float        = 10.\n",
    "        \n",
    "hp = Hyperparameter()"
   ]
  }
 ],
 "metadata": {
  "kernelspec": {
   "display_name": "pt",
   "language": "python",
   "name": "python3"
  },
  "language_info": {
   "codemirror_mode": {
    "name": "ipython",
    "version": 3
   },
   "file_extension": ".py",
   "mimetype": "text/x-python",
   "name": "python",
   "nbconvert_exporter": "python",
   "pygments_lexer": "ipython3",
   "version": "3.8.13"
  },
  "orig_nbformat": 4,
  "vscode": {
   "interpreter": {
    "hash": "0309d8ed7dd8a2b067a650184bf138287dc3ac5b65e8a603042037ec1e139bf5"
   }
  }
 },
 "nbformat": 4,
 "nbformat_minor": 2
}
