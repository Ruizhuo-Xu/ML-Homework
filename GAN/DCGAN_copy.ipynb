{
 "cells": [
  {
   "cell_type": "code",
   "execution_count": 1,
   "metadata": {},
   "outputs": [],
   "source": [
    "import torch\n",
    "from torch import nn\n",
    "import torch.optim as optim\n",
    "\n",
    "from torchvision import transforms, datasets\n",
    "from torchvision.utils import make_grid\n",
    "\n",
    "from torchvision.datasets import CIFAR10\n",
    "from torch.utils.data import DataLoader\n",
    "\n",
    "import matplotlib.pyplot as plt\n",
    "from IPython.display import clear_output\n",
    "from torchstat import stat\n",
    "\n",
    "from tqdm import tqdm, trange\n",
    "import wandb\n",
    "from torchvision.utils import save_image\n",
    "import numpy as np\n",
    "import matplotlib\n",
    "\n",
    "matplotlib.style.use('ggplot')"
   ]
  },
  {
   "attachments": {},
   "cell_type": "markdown",
   "metadata": {},
   "source": [
    "## 定义生成器和辨别器"
   ]
  },
  {
   "cell_type": "code",
   "execution_count": 2,
   "metadata": {},
   "outputs": [],
   "source": [
    "# generator\n",
    "class Generator(nn.Module):\n",
    "    def __init__(self, nz):\n",
    "        super(Generator, self).__init__()\n",
    "        self.nz = nz\n",
    "        self.main = nn.Sequential(\n",
    "            # nz will be the input to the first convolution\n",
    "            nn.ConvTranspose2d(\n",
    "                nz, 512, kernel_size=4, \n",
    "                stride=1, padding=0, bias=False),  # B, 512, 4, 4\n",
    "            nn.BatchNorm2d(512),\n",
    "            nn.ReLU(True),\n",
    "            nn.ConvTranspose2d(\n",
    "                512, 256, kernel_size=4, \n",
    "                stride=2, padding=1, bias=False),  # B, 256, 8, 8\n",
    "            nn.BatchNorm2d(256),\n",
    "            nn.ReLU(True),\n",
    "            nn.ConvTranspose2d(\n",
    "                256, 128, kernel_size=4, \n",
    "                stride=2, padding=1, bias=False),  # B, 128, 16, 16\n",
    "            nn.BatchNorm2d(128),\n",
    "            nn.ReLU(True),\n",
    "            nn.ConvTranspose2d(\n",
    "                128, 64, kernel_size=4, \n",
    "                stride=2, padding=1, bias=False),  # B, 64, 32, 32\n",
    "            nn.BatchNorm2d(64),\n",
    "            nn.ReLU(True),\n",
    "            nn.ConvTranspose2d(\n",
    "                64, 3, kernel_size=4, \n",
    "                stride=2, padding=1, bias=False),  # B, 3, 64, 64\n",
    "            nn.Tanh()\n",
    "        )\n",
    "    def forward(self, input):\n",
    "        return self.main(input)"
   ]
  },
  {
   "cell_type": "code",
   "execution_count": 3,
   "metadata": {},
   "outputs": [],
   "source": [
    "# discriminator\n",
    "class Discriminator(nn.Module):\n",
    "    def __init__(self):\n",
    "        super(Discriminator, self).__init__()\n",
    "        self.main = nn.Sequential(\n",
    "            nn.Conv2d(\n",
    "                3, 64, kernel_size=4, \n",
    "                stride=2, padding=1, bias=False),  # B, 64, 32, 32\n",
    "            nn.LeakyReLU(0.2, inplace=True),\n",
    "            nn.Conv2d(\n",
    "                64, 128, kernel_size=4, \n",
    "                stride=2, padding=1, bias=False),  # B, 128, 16, 16\n",
    "            nn.BatchNorm2d(128),\n",
    "            nn.LeakyReLU(0.2, inplace=True),\n",
    "            nn.Conv2d(\n",
    "                128, 256, kernel_size=4, \n",
    "                stride=2, padding=1, bias=False),  # B, 256, 8, 8\n",
    "            nn.BatchNorm2d(256),\n",
    "            nn.LeakyReLU(0.2, inplace=True),\n",
    "            nn.Conv2d(\n",
    "                256, 512, kernel_size=4, \n",
    "                stride=2, padding=1, bias=False),  # B, 512, 4, 4\n",
    "            nn.BatchNorm2d(512),\n",
    "            nn.LeakyReLU(0.2, inplace=True),\n",
    "            nn.Conv2d(\n",
    "                512, 1, kernel_size=4, \n",
    "                stride=1, padding=0, bias=False),  # B, 1, 1, 1\n",
    "            nn.Sigmoid()\n",
    "        )\n",
    "    def forward(self, input):\n",
    "        return self.main(input)"
   ]
  },
  {
   "cell_type": "markdown",
   "metadata": {},
   "source": [
    "## utils"
   ]
  },
  {
   "cell_type": "code",
   "execution_count": 4,
   "metadata": {},
   "outputs": [],
   "source": [
    "# set the computation device\n",
    "device = torch.device('cuda:0' if torch.cuda.is_available() else 'cpu')\n",
    "def label_real(size):\n",
    "    \"\"\"\n",
    "    Fucntion to create real labels (ones)\n",
    "    :param size: batch size\n",
    "    :return real label vector\n",
    "    \"\"\"\n",
    "    data = torch.ones(size, 1)\n",
    "    return data.to(device)\n",
    "\n",
    "def label_fake(size):\n",
    "    \"\"\"\n",
    "    Fucntion to create fake labels (zeros)\n",
    "    :param size: batch size\n",
    "    :returns fake label vector\n",
    "    \"\"\"\n",
    "    data = torch.zeros(size, 1)\n",
    "    return data.to(device)\n",
    "\n",
    "def create_noise(sample_size, nz):\n",
    "    \"\"\"\n",
    "    Fucntion to create noise\n",
    "    :param sample_size: fixed sample size or batch size\n",
    "    :param nz: latent vector size\n",
    "    :returns random noise vector\n",
    "    \"\"\"\n",
    "    return torch.randn(sample_size, nz, 1, 1).to(device)\n",
    "\n",
    "def save_generator_image(image, path):\n",
    "    \"\"\"\n",
    "    Function to save torch image batches\n",
    "    :param image: image tensor batch\n",
    "    :param path: path name to save image\n",
    "    \"\"\"\n",
    "    save_image(image, path, normalize=True)\n",
    "    \n",
    "def weights_init(m):\n",
    "    \"\"\"\n",
    "    This function initializes the model weights randomly from a \n",
    "    Normal distribution. This follows the specification from the DCGAN paper.\n",
    "    https://arxiv.org/pdf/1511.06434.pdf\n",
    "    Source: https://pytorch.org/tutorials/beginner/dcgan_faces_tutorial.html\n",
    "    \"\"\"\n",
    "    classname = m.__class__.__name__\n",
    "    if classname.find('Conv') != -1:\n",
    "        nn.init.normal_(m.weight.data, 0.0, 0.02)\n",
    "    elif classname.find('BatchNorm') != -1:\n",
    "        nn.init.normal_(m.weight.data, 1.0, 0.02)\n",
    "        nn.init.constant_(m.bias.data, 0)"
   ]
  },
  {
   "attachments": {},
   "cell_type": "markdown",
   "metadata": {},
   "source": [
    "## 定义超参数"
   ]
  },
  {
   "cell_type": "code",
   "execution_count": 5,
   "metadata": {},
   "outputs": [],
   "source": [
    "# learning parameters / configurations according to paper\n",
    "image_size = 64 # we need to resize image to 64x64\n",
    "batch_size = 128\n",
    "nz = 100 # latent vector size\n",
    "beta1 = 0.5 # beta1 value for Adam optimizer\n",
    "lr = 0.0002 # learning rate according to paper\n",
    "sample_size = 64 # fixed sample size\n",
    "epochs = 400 # number of epoch to train\n",
    "# set the computation device\n",
    "device = torch.device('cuda:0' if torch.cuda.is_available() else 'cpu')"
   ]
  },
  {
   "attachments": {},
   "cell_type": "markdown",
   "metadata": {},
   "source": [
    "## 加载数据集"
   ]
  },
  {
   "cell_type": "code",
   "execution_count": 6,
   "metadata": {},
   "outputs": [
    {
     "name": "stdout",
     "output_type": "stream",
     "text": [
      "Files already downloaded and verified\n"
     ]
    }
   ],
   "source": [
    "# image transforms\n",
    "transform = transforms.Compose([\n",
    "    transforms.Resize(image_size),\n",
    "    transforms.ToTensor(),\n",
    "    transforms.Normalize((0.5, 0.5, 0.5), \n",
    "    (0.5, 0.5, 0.5)),\n",
    "])\n",
    "# prepare the data\n",
    "train_data = datasets.CIFAR10(\n",
    "    root='./data',\n",
    "    train=True,\n",
    "    download=True,\n",
    "    transform=transform\n",
    ")\n",
    "train_loader = DataLoader(train_data, batch_size=batch_size, shuffle=True)"
   ]
  },
  {
   "attachments": {},
   "cell_type": "markdown",
   "metadata": {},
   "source": [
    "## 初始化生成器、辨别器"
   ]
  },
  {
   "cell_type": "code",
   "execution_count": 7,
   "metadata": {},
   "outputs": [],
   "source": [
    "# initialize models\n",
    "generator = Generator(nz).to(device)\n",
    "discriminator = Discriminator().to(device) \n",
    "# initialize generator weights\n",
    "generator.apply(weights_init)\n",
    "# initialize discriminator weights\n",
    "discriminator.apply(weights_init)\n",
    "pass"
   ]
  },
  {
   "attachments": {},
   "cell_type": "markdown",
   "metadata": {},
   "source": [
    "## 定义优化器和损失函数"
   ]
  },
  {
   "cell_type": "code",
   "execution_count": 8,
   "metadata": {},
   "outputs": [],
   "source": [
    "# optimizers\n",
    "optim_g = optim.Adam(generator.parameters(), lr=lr, betas=(beta1, 0.999))\n",
    "optim_d = optim.Adam(discriminator.parameters(), lr=lr, betas=(beta1, 0.999))\n",
    "# loss function\n",
    "criterion = nn.BCELoss()\n",
    "losses_g = [] # to store generator loss after each epoch\n",
    "losses_d = [] # to store discriminator loss after each epoch"
   ]
  },
  {
   "attachments": {},
   "cell_type": "markdown",
   "metadata": {},
   "source": [
    "## 定义辨别器训练函数"
   ]
  },
  {
   "cell_type": "code",
   "execution_count": 9,
   "metadata": {},
   "outputs": [],
   "source": [
    "# function to train the discriminator network\n",
    "def train_discriminator(optimizer, data_real, data_fake):\n",
    "    b_size = data_real.size(0)\n",
    "    # get the real label vector\n",
    "    real_label = label_real(b_size)\n",
    "    # get the fake label vector\n",
    "    fake_label = label_fake(b_size)\n",
    "    optimizer.zero_grad()\n",
    "    # get the outputs by doing real data forward pass\n",
    "    output_real = discriminator(data_real).view(-1, 1)\n",
    "    loss_real = criterion(output_real, real_label)\n",
    "    # get the outputs by doing fake data forward pass\n",
    "    output_fake = discriminator(data_fake).view(-1, 1)\n",
    "    loss_fake = criterion(output_fake, fake_label)\n",
    "    # compute gradients of real loss \n",
    "    loss_real.backward()\n",
    "    # compute gradients of fake loss\n",
    "    loss_fake.backward()\n",
    "    # update discriminator parameters\n",
    "    optimizer.step()\n",
    "    return loss_real + loss_fake"
   ]
  },
  {
   "attachments": {},
   "cell_type": "markdown",
   "metadata": {},
   "source": [
    "## 定义生成器训练函数"
   ]
  },
  {
   "cell_type": "code",
   "execution_count": 10,
   "metadata": {},
   "outputs": [],
   "source": [
    "# function to train the generator network\n",
    "def train_generator(optimizer, data_fake):\n",
    "    b_size = data_fake.size(0)\n",
    "    # get the real label vector\n",
    "    real_label = label_real(b_size)\n",
    "    optimizer.zero_grad()\n",
    "    # output by doing a forward pass of the fake data through discriminator\n",
    "    output = discriminator(data_fake).view(-1, 1)\n",
    "    loss = criterion(output, real_label)\n",
    "    # compute gradients of loss\n",
    "    loss.backward()\n",
    "    # update generator parameters\n",
    "    optimizer.step()\n",
    "    return loss "
   ]
  },
  {
   "attachments": {},
   "cell_type": "markdown",
   "metadata": {},
   "source": [
    "## 训练"
   ]
  },
  {
   "cell_type": "code",
   "execution_count": 11,
   "metadata": {},
   "outputs": [],
   "source": [
    "# create the noise vector\n",
    "noise = create_noise(sample_size, nz)"
   ]
  },
  {
   "cell_type": "code",
   "execution_count": 12,
   "metadata": {},
   "outputs": [],
   "source": [
    "generator.train()\n",
    "discriminator.train()\n",
    "pass"
   ]
  },
  {
   "cell_type": "code",
   "execution_count": 13,
   "metadata": {},
   "outputs": [
    {
     "name": "stderr",
     "output_type": "stream",
     "text": [
      "Failed to detect the name of this notebook, you can set it manually with the WANDB_NOTEBOOK_NAME environment variable to enable code saving.\n",
      "\u001b[34m\u001b[1mwandb\u001b[0m: Currently logged in as: \u001b[33mruizhuo_xu\u001b[0m. Use \u001b[1m`wandb login --relogin`\u001b[0m to force relogin\n"
     ]
    },
    {
     "data": {
      "text/html": [
       "wandb version 0.13.7 is available!  To upgrade, please run:\n",
       " $ pip install wandb --upgrade"
      ],
      "text/plain": [
       "<IPython.core.display.HTML object>"
      ]
     },
     "metadata": {},
     "output_type": "display_data"
    },
    {
     "data": {
      "text/html": [
       "Tracking run with wandb version 0.13.3"
      ],
      "text/plain": [
       "<IPython.core.display.HTML object>"
      ]
     },
     "metadata": {},
     "output_type": "display_data"
    },
    {
     "data": {
      "text/html": [
       "Run data is saved locally in <code>/home/rz/code/ML-Homework/GAN/wandb/run-20221217_210107-nun7nwa4</code>"
      ],
      "text/plain": [
       "<IPython.core.display.HTML object>"
      ]
     },
     "metadata": {},
     "output_type": "display_data"
    },
    {
     "data": {
      "text/html": [
       "Syncing run <strong><a href=\"https://wandb.ai/ruizhuo_xu/Gan/runs/nun7nwa4\" target=\"_blank\">test</a></strong> to <a href=\"https://wandb.ai/ruizhuo_xu/Gan\" target=\"_blank\">Weights & Biases</a> (<a href=\"https://wandb.me/run\" target=\"_blank\">docs</a>)<br/>"
      ],
      "text/plain": [
       "<IPython.core.display.HTML object>"
      ]
     },
     "metadata": {},
     "output_type": "display_data"
    },
    {
     "data": {
      "text/html": [
       "<button onClick=\"this.nextSibling.style.display='block';this.style.display='none';\">Display W&B run</button><iframe src=\"https://wandb.ai/ruizhuo_xu/Gan/runs/nun7nwa4?jupyter=true\" style=\"border:none;width:100%;height:420px;display:none;\"></iframe>"
      ],
      "text/plain": [
       "<wandb.sdk.wandb_run.Run at 0x7f7f49bc8310>"
      ]
     },
     "execution_count": 13,
     "metadata": {},
     "output_type": "execute_result"
    }
   ],
   "source": [
    "wandb.init(project=\"Gan\", name=\"DCGAN\", entity=\"ruizhuo_xu\")"
   ]
  },
  {
   "cell_type": "code",
   "execution_count": 14,
   "metadata": {},
   "outputs": [
    {
     "name": "stderr",
     "output_type": "stream",
     "text": [
      "  0%|          | 0/390 [00:00<?, ?it/s]wandb: Network error (TransientError), entering retry loop.\n",
      "391it [01:12,  5.39it/s]                         \n"
     ]
    },
    {
     "name": "stdout",
     "output_type": "stream",
     "text": [
      "Epoch 1 of 25\n",
      "Generator loss: 6.85134602, Discriminator loss: 0.53713691\n"
     ]
    },
    {
     "name": "stderr",
     "output_type": "stream",
     "text": [
      "  7%|▋         | 26/390 [00:04<01:07,  5.43it/s]wandb: Network error (TransientError), entering retry loop.\n",
      " 15%|█▍        | 58/390 [00:10<01:01,  5.36it/s]\n"
     ]
    },
    {
     "ename": "KeyboardInterrupt",
     "evalue": "",
     "output_type": "error",
     "traceback": [
      "\u001b[0;31m---------------------------------------------------------------------------\u001b[0m",
      "\u001b[0;31mKeyboardInterrupt\u001b[0m                         Traceback (most recent call last)",
      "Cell \u001b[0;32mIn [14], line 12\u001b[0m\n\u001b[1;32m     10\u001b[0m     data_real \u001b[39m=\u001b[39m image\n\u001b[1;32m     11\u001b[0m     loss_d \u001b[39m+\u001b[39m\u001b[39m=\u001b[39m train_discriminator(optim_d, data_real, data_fake)\n\u001b[0;32m---> 12\u001b[0m     data_fake \u001b[39m=\u001b[39m generator(create_noise(b_size, nz))\n\u001b[1;32m     13\u001b[0m     loss_g \u001b[39m+\u001b[39m\u001b[39m=\u001b[39m train_generator(optim_g, data_fake)\n\u001b[1;32m     14\u001b[0m \u001b[39m# final forward pass through generator to create fake data...\u001b[39;00m\n\u001b[1;32m     15\u001b[0m \u001b[39m# ...after training for current epoch\u001b[39;00m\n",
      "Cell \u001b[0;32mIn [4], line 28\u001b[0m, in \u001b[0;36mcreate_noise\u001b[0;34m(sample_size, nz)\u001b[0m\n\u001b[1;32m     21\u001b[0m \u001b[39mdef\u001b[39;00m \u001b[39mcreate_noise\u001b[39m(sample_size, nz):\n\u001b[1;32m     22\u001b[0m     \u001b[39m\"\"\"\u001b[39;00m\n\u001b[1;32m     23\u001b[0m \u001b[39m    Fucntion to create noise\u001b[39;00m\n\u001b[1;32m     24\u001b[0m \u001b[39m    :param sample_size: fixed sample size or batch size\u001b[39;00m\n\u001b[1;32m     25\u001b[0m \u001b[39m    :param nz: latent vector size\u001b[39;00m\n\u001b[1;32m     26\u001b[0m \u001b[39m    :returns random noise vector\u001b[39;00m\n\u001b[1;32m     27\u001b[0m \u001b[39m    \"\"\"\u001b[39;00m\n\u001b[0;32m---> 28\u001b[0m     \u001b[39mreturn\u001b[39;00m torch\u001b[39m.\u001b[39;49mrandn(sample_size, nz, \u001b[39m1\u001b[39;49m, \u001b[39m1\u001b[39;49m)\u001b[39m.\u001b[39;49mto(device)\n",
      "\u001b[0;31mKeyboardInterrupt\u001b[0m: "
     ]
    }
   ],
   "source": [
    "for epoch in range(epochs):\n",
    "    loss_g = 0.0\n",
    "    loss_d = 0.0\n",
    "    for bi, data in tqdm(enumerate(train_loader), total=int(len(train_data)/train_loader.batch_size)):\n",
    "        image, _ = data\n",
    "        image = image.to(device)\n",
    "        b_size = len(image)\n",
    "        # forward pass through generator to create fake data\n",
    "        data_fake = generator(create_noise(b_size, nz)).detach()\n",
    "        data_real = image\n",
    "        loss_d += train_discriminator(optim_d, data_real, data_fake)\n",
    "        data_fake = generator(create_noise(b_size, nz))\n",
    "        loss_g += train_generator(optim_g, data_fake)\n",
    "    # final forward pass through generator to create fake data...\n",
    "    # ...after training for current epoch\n",
    "    generated_img = generator(noise).cpu().detach()\n",
    "    # save the generated torch tensor models to disk\n",
    "    save_generator_image(generated_img, f\"./outputs/gen_img{epoch}.png\")\n",
    "    epoch_loss_g = loss_g / bi # total generator loss for the epoch\n",
    "    epoch_loss_d = loss_d / bi # total discriminator loss for the epoch\n",
    "    losses_g.append(epoch_loss_g)\n",
    "    losses_d.append(epoch_loss_d)\n",
    "    wandb.log(\n",
    "        {\n",
    "            \"D_loss_epoch\": epoch_loss_d,\n",
    "            \"G_loss_epoch\": epoch_loss_g,\n",
    "            \"generated_img\": wandb.Image(make_grid(generated_img, nrow=8, normalize=True)),\n",
    "            \"epoch\": epoch+1\n",
    "\n",
    "        }\n",
    "    )\n",
    "    print(f\"Epoch {epoch+1} of {epochs}\")\n",
    "    print(f\"Generator loss: {epoch_loss_g:.8f}, Discriminator loss: {epoch_loss_d:.8f}\")\n",
    "print('DONE TRAINING')\n",
    "# save the model weights to disk\n",
    "torch.save(generator.state_dict(), './outputs_1/generator.pth')\n",
    "# plot and save the generator and discriminator loss\n",
    "plt.figure()\n",
    "losses_d = [x.item() for x in losses_d]\n",
    "losses_g = [x.item() for x in losses_g]\n",
    "plt.plot(losses_g, label='Generator loss')\n",
    "plt.plot(losses_d, label='Discriminator Loss')\n",
    "plt.legend()\n",
    "plt.savefig('./outputs_1/loss.png')\n",
    "plt.show()"
   ]
  },
  {
   "cell_type": "code",
   "execution_count": 14,
   "metadata": {},
   "outputs": [
    {
     "name": "stdout",
     "output_type": "stream",
     "text": [
      "DONE TRAINING\n"
     ]
    }
   ],
   "source": [
    "print('DONE TRAINING')\n",
    "# save the model weights to disk\n",
    "torch.save(generator.state_dict(), './outputs/generator.pth')"
   ]
  },
  {
   "cell_type": "code",
   "execution_count": 17,
   "metadata": {},
   "outputs": [
    {
     "data": {
      "image/png": "[encoded data removed]",
      "text/plain": [
       "<Figure size 640x480 with 1 Axes>"
      ]
     },
     "metadata": {},
     "output_type": "display_data"
    }
   ],
   "source": [
    "# plot and save the generator and discriminator loss\n",
    "plt.figure()\n",
    "losses_d = [x.item() for x in losses_d]\n",
    "losses_g = [x.item() for x in losses_g]\n",
    "plt.plot(losses_g, label='Generator loss')\n",
    "plt.plot(losses_d, label='Discriminator Loss')\n",
    "plt.legend()\n",
    "plt.savefig('./outputs/loss.png')\n",
    "plt.show()"
   ]
  },
  {
   "cell_type": "code",
   "execution_count": null,
   "metadata": {},
   "outputs": [],
   "source": []
  }
 ],
 "metadata": {
  "kernelspec": {
   "display_name": "pt",
   "language": "python",
   "name": "python3"
  },
  "language_info": {
   "codemirror_mode": {
    "name": "ipython",
    "version": 3
   },
   "file_extension": ".py",
   "mimetype": "text/x-python",
   "name": "python",
   "nbconvert_exporter": "python",
   "pygments_lexer": "ipython3",
   "version": "3.8.13 (default, Mar 28 2022, 11:38:47) \n[GCC 7.5.0]"
  },
  "orig_nbformat": 4,
  "vscode": {
   "interpreter": {
    "hash": "0309d8ed7dd8a2b067a650184bf138287dc3ac5b65e8a603042037ec1e139bf5"
   }
  }
 },
 "nbformat": 4,
 "nbformat_minor": 2
}
