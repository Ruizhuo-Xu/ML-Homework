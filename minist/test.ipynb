{
 "cells": [
  {
   "cell_type": "code",
   "execution_count": 1,
   "metadata": {},
   "outputs": [],
   "source": [
    "from pathlib import Path\n",
    "import os"
   ]
  },
  {
   "cell_type": "code",
   "execution_count": 10,
   "metadata": {},
   "outputs": [],
   "source": [
    "from tqdm import tqdm\n",
    "import numpy as np"
   ]
  },
  {
   "cell_type": "code",
   "execution_count": 22,
   "metadata": {},
   "outputs": [
    {
     "data": {
      "image/png": "[encoded data removed]",
      "text/plain": [
       "<Figure size 640x480 with 1 Axes>"
      ]
     },
     "metadata": {},
     "output_type": "display_data"
    }
   ],
   "source": [
    "from torchvision import datasets, transforms\n",
    "from torchvision.utils import make_grid\n",
    "import matplotlib.pyplot as plt\n",
    "from torch.utils.data import DataLoader\n",
    "trsfm = transforms.Compose([\n",
    "    transforms.ToTensor(),\n",
    "])\n",
    "dataset = datasets.MNIST(\"./data/\", train=False, download=True, transform=trsfm)\n",
    "plt.figure(\"MNISI\")\n",
    "data_loader = DataLoader(dataset, batch_size=16)\n",
    "for data, label in data_loader:\n",
    "    imgs = make_grid(data, nrow=4)\n",
    "    plt.yticks([])\n",
    "    plt.xticks([])\n",
    "    plt.imshow(transforms.ToPILImage()(imgs))\n",
    "    break"
   ]
  },
  {
   "cell_type": "code",
   "execution_count": 29,
   "metadata": {},
   "outputs": [],
   "source": [
    "from model.model import MnistModel\n",
    "from torchstat import stat"
   ]
  },
  {
   "cell_type": "code",
   "execution_count": 32,
   "metadata": {},
   "outputs": [
    {
     "name": "stdout",
     "output_type": "stream",
     "text": [
      "[MAdd]: Flatten is not supported!\n",
      "[Flops]: Flatten is not supported!\n",
      "[Memory]: Flatten is not supported!\n",
      "[MAdd]: Flatten is not supported!\n",
      "[Flops]: Flatten is not supported!\n",
      "[Memory]: Flatten is not supported!\n",
      "[MAdd]: Dropout is not supported!\n",
      "[Flops]: Dropout is not supported!\n",
      "[Memory]: Dropout is not supported!\n",
      "[MAdd]: Dropout is not supported!\n",
      "[Flops]: Dropout is not supported!\n",
      "[Memory]: Dropout is not supported!\n",
      "[MAdd]: Dropout is not supported!\n",
      "[Flops]: Dropout is not supported!\n",
      "[Memory]: Dropout is not supported!\n",
      "[MAdd]: Dropout is not supported!\n",
      "[Flops]: Dropout is not supported!\n",
      "[Memory]: Dropout is not supported!\n",
      "      module name  input shape output shape     params memory(MB)         MAdd        Flops  MemRead(B)  MemWrite(B) duration[%]  MemR+W(B)\n",
      "0           net.0    1  28  28          784        0.0       0.00          0.0          0.0         0.0          0.0       6.52%        0.0\n",
      "1           net.1          784         1024   803840.0       0.00  1,604,608.0    802,816.0   3218496.0       4096.0      69.17%  3222592.0\n",
      "2           net.2         1024         1024        0.0       0.00      1,024.0      1,024.0      4096.0       4096.0       8.22%     8192.0\n",
      "3           net.3         1024         1024        0.0       0.00          0.0          0.0         0.0          0.0       4.19%        0.0\n",
      "4           net.4         1024          512   524800.0       0.00  1,048,064.0    524,288.0   2103296.0       2048.0       5.06%  2105344.0\n",
      "5           net.5          512          512        0.0       0.00        512.0        512.0      2048.0       2048.0       2.00%     4096.0\n",
      "6           net.6          512          512        0.0       0.00          0.0          0.0         0.0          0.0       2.03%        0.0\n",
      "7           net.7          512           10     5130.0       0.00     10,230.0      5,120.0     22568.0         40.0       2.80%    22608.0\n",
      "total                                        1333770.0       0.02  2,664,438.0  1,333,760.0     22568.0         40.0     100.00%  5362832.0\n",
      "===========================================================================================================================================\n",
      "Total params: 1,333,770\n",
      "-------------------------------------------------------------------------------------------------------------------------------------------\n",
      "Total memory: 0.02MB\n",
      "Total MAdd: 2.66MMAdd\n",
      "Total Flops: 1.33MFlops\n",
      "Total MemR+W: 5.11MB\n",
      "\n",
      "None\n"
     ]
    },
    {
     "name": "stderr",
     "output_type": "stream",
     "text": [
      "/home/rz/anaconda3/envs/pt/lib/python3.8/site-packages/torchstat/reporter.py:63: FutureWarning: The frame.append method is deprecated and will be removed from pandas in a future version. Use pandas.concat instead.\n",
      "  df = df.append(total_df)\n"
     ]
    }
   ],
   "source": [
    "net = MnistModel()\n",
    "print(stat(net, (1, 28, 28)))"
   ]
  },
  {
   "cell_type": "code",
   "execution_count": 31,
   "metadata": {},
   "outputs": [],
   "source": [
    "from torch.optim import SGD"
   ]
  },
  {
   "cell_type": "code",
   "execution_count": 33,
   "metadata": {},
   "outputs": [],
   "source": [
    "op = SGD(net.parameters(), lr=1e-1)"
   ]
  },
  {
   "cell_type": "code",
   "execution_count": 34,
   "metadata": {},
   "outputs": [
    {
     "data": {
      "text/plain": [
       "0.1"
      ]
     },
     "execution_count": 34,
     "metadata": {},
     "output_type": "execute_result"
    }
   ],
   "source": [
    "op.state_dict()['param_groups'][0]['lr']"
   ]
  },
  {
   "cell_type": "code",
   "execution_count": null,
   "metadata": {},
   "outputs": [],
   "source": []
  }
 ],
 "metadata": {
  "kernelspec": {
   "display_name": "pt",
   "language": "python",
   "name": "python3"
  },
  "language_info": {
   "codemirror_mode": {
    "name": "ipython",
    "version": 3
   },
   "file_extension": ".py",
   "mimetype": "text/x-python",
   "name": "python",
   "nbconvert_exporter": "python",
   "pygments_lexer": "ipython3",
   "version": "3.8.13 (default, Mar 28 2022, 11:38:47) \n[GCC 7.5.0]"
  },
  "orig_nbformat": 4,
  "vscode": {
   "interpreter": {
    "hash": "0309d8ed7dd8a2b067a650184bf138287dc3ac5b65e8a603042037ec1e139bf5"
   }
  }
 },
 "nbformat": 4,
 "nbformat_minor": 2
}
