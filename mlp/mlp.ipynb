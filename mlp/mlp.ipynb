{
 "cells": [
  {
   "cell_type": "code",
   "execution_count": 1,
   "metadata": {},
   "outputs": [],
   "source": [
    "import numpy as np\n",
    "import os\n",
    "import torch\n",
    "import os\n",
    "import struct\n",
    "import matplotlib.pyplot as plt\n",
    "from collections import OrderedDict\n",
    "import time"
   ]
  },
  {
   "attachments": {},
   "cell_type": "markdown",
   "metadata": {},
   "source": [
    "## 数据加载类定义"
   ]
  },
  {
   "cell_type": "code",
   "execution_count": 4,
   "metadata": {},
   "outputs": [],
   "source": [
    "class MNIST:\n",
    "    def __init__(self, path, is_train=True, normalize=True, split=0.0):\n",
    "        self.path = path\n",
    "        self.is_train = is_train\n",
    "        self.split = split\n",
    "        self.images, self.labels = self._load_mnist()\n",
    "        self.labels = self._one_hot(self.labels)\n",
    "        if normalize:\n",
    "            self.images = self.images / 255\n",
    "        self.train_idx, self.valid_idx = self._split_validation(self.split)\n",
    "\n",
    "    def _load_mnist(self):\n",
    "        prefix_str = \"train\" if self.is_train else \"t10k\"\n",
    "        labels_path = os.path.join(self.path, f'{prefix_str}-labels-idx1-ubyte')\n",
    "        images_path = os.path.join(self.path, f'{prefix_str}-images-idx3-ubyte')\n",
    "        with open(labels_path, 'rb') as lbpath:\n",
    "            magic, n = struct.unpack('>II', lbpath.read(8))\n",
    "            labels = np.fromfile(lbpath, dtype=np.uint8)\n",
    "        with open(images_path, 'rb') as imgpath:\n",
    "            magic, num, rows, cols = struct.unpack(\">IIII\", imgpath.read(16))\n",
    "            images = np.fromfile(imgpath, dtype=np.uint8).reshape(len(labels), 784)\n",
    "        \n",
    "        return images, labels\n",
    "\n",
    "    def _split_validation(self, split):\n",
    "        if split == 0.0:\n",
    "            return None, None\n",
    "        data_len = len(self.images)\n",
    "        idx_full = np.arange(data_len)\n",
    "        np.random.seed(0)\n",
    "        np.random.shuffle(idx_full)\n",
    "        len_valid = int(data_len * split)\n",
    "        valid_idx = idx_full[0:len_valid]\n",
    "        train_idx = idx_full[len_valid:]\n",
    "\n",
    "        return train_idx, valid_idx\n",
    "    \n",
    "    def _one_hot(self, label):\n",
    "        one_hot_label = np.zeros((len(self.labels), 10))\n",
    "        idx_1 = np.arange(len(self.labels))\n",
    "        idx_2 = self.labels.flatten()\n",
    "        one_hot_label[idx_1, idx_2] = 1\n",
    "        \n",
    "        return one_hot_label\n",
    "\n",
    "    def get_data_set(self):\n",
    "        if self.train_idx is not None:\n",
    "            return self.images[self.train_idx], self.labels[self.train_idx], self.images[self.valid_idx], self.labels[self.valid_idx]\n",
    "        return self.images, self.labels, None, None"
   ]
  },
  {
   "attachments": {},
   "cell_type": "markdown",
   "metadata": {},
   "source": [
    "## ReLu激活函数类定义"
   ]
  },
  {
   "cell_type": "code",
   "execution_count": 5,
   "metadata": {},
   "outputs": [],
   "source": [
    "class ReLu:\n",
    "    def __init__(self):\n",
    "        self.mask = None\n",
    "\n",
    "    def forward(self, x):\n",
    "        self.mask = (x <= 0)\n",
    "        out = x.copy()\n",
    "        out[self.mask] = 0\n",
    "\n",
    "        return out\n",
    "\n",
    "    def backward(self, dout):\n",
    "        dout[self.mask] = 0\n",
    "        dx = dout\n",
    "\n",
    "        return dx"
   ]
  },
  {
   "attachments": {},
   "cell_type": "markdown",
   "metadata": {},
   "source": [
    "## 线性层类定义"
   ]
  },
  {
   "cell_type": "code",
   "execution_count": 6,
   "metadata": {},
   "outputs": [],
   "source": [
    "class Affine:\n",
    "    def __init__(self, W, b):\n",
    "        self.W = W\n",
    "        self.b = b\n",
    "        self.x = None\n",
    "        self.dW = None\n",
    "        self.db = None\n",
    "\n",
    "    def forward(self, x):\n",
    "        self.x = x\n",
    "        out = np.dot(x, self.W) + self.b\n",
    "\n",
    "        return out\n",
    "\n",
    "    def backward(self, dout):\n",
    "        dx = np.dot(dout, self.W.T)\n",
    "        self.dW = np.dot(self.x.T, dout)\n",
    "        self.db = np.sum(dout, axis=0)\n",
    "        \n",
    "        return dx"
   ]
  },
  {
   "attachments": {},
   "cell_type": "markdown",
   "metadata": {},
   "source": [
    "## Softmax和交叉熵损失函数类定义"
   ]
  },
  {
   "cell_type": "code",
   "execution_count": null,
   "metadata": {},
   "outputs": [],
   "source": [
    "def softmax(a):\n",
    "    c = np.max(a, axis=1, keepdims=True)\n",
    "    exp_a = np.exp(a - c)\n",
    "    sum_exp_a = np.sum(exp_a, axis=1, keepdims=True)\n",
    "    y = exp_a / sum_exp_a\n",
    "\n",
    "    return y\n",
    "\n",
    "def cross_entropy(y, t):\n",
    "    delta = 1e-7\n",
    "    if y.ndim == 1:\n",
    "        t = t.reshape(1, t.size)\n",
    "        y = y.reshape(1, y.size)\n",
    "    batch_size = y.shape[0]\n",
    "    return -np.sum(t * np.log(y + delta)) / batch_size"
   ]
  },
  {
   "cell_type": "code",
   "execution_count": 7,
   "metadata": {},
   "outputs": [],
   "source": [
    "class SoftmaxWithLoss:\n",
    "    def __init__(self):\n",
    "        self.loss = None\n",
    "        self.y = None\n",
    "        self.t = None\n",
    "\n",
    "    def forward(self, x, t):\n",
    "        self.t = t\n",
    "        self.y = softmax(x)\n",
    "        self.loss = cross_entropy(self.y, self.t)\n",
    "\n",
    "        return self.loss\n",
    "\n",
    "    def backward(self, d_out=1):\n",
    "        batch_size = self.t.shape[0]\n",
    "        dx = (self.y - self.t) / batch_size\n",
    "\n",
    "        return dx"
   ]
  },
  {
   "attachments": {},
   "cell_type": "markdown",
   "metadata": {},
   "source": [
    "## 多层感知机类定义"
   ]
  },
  {
   "cell_type": "code",
   "execution_count": 8,
   "metadata": {},
   "outputs": [],
   "source": [
    "class MLP:\n",
    "    def __init__(self, input_size, hidden_size, output_size, weight_init_std=0.01):\n",
    "        self.params = {}\n",
    "        self.params['W1'] = weight_init_std * np.random.randn(input_size, hidden_size)\n",
    "        self.params['b1'] = np.zeros(hidden_size)\n",
    "        self.params['W2'] = weight_init_std * np.random.randn(hidden_size, output_size)\n",
    "        self.params['b2'] = np.zeros(output_size)\n",
    "\n",
    "        self.layers = OrderedDict()\n",
    "        self.layers['Affine1'] = Affine(self.params['W1'], self.params['b1'])\n",
    "        self.layers['ReLu1'] = ReLu()\n",
    "        self.layers['Affine2'] = Affine(self.params['W2'], self.params['b2'])\n",
    "        \n",
    "        self.lastLayer = SoftmaxWithLoss()\n",
    "\n",
    "    def predict(self, x):\n",
    "        for layer in self.layers.values():\n",
    "            x = layer.forward(x)\n",
    "\n",
    "        return x\n",
    "\n",
    "    def loss(self, x, t):\n",
    "        y = self.predict(x)\n",
    "        return self.lastLayer.forward(y, t)\n",
    "\n",
    "    def accuracy(self, y, t):\n",
    "        y = np.argmax(y, axis=1)\n",
    "        if t.ndim != 1:\n",
    "            t = np.argmax(t, axis=1)\n",
    "        accuracy = np.sum(y == t) / float(y.shape[0])\n",
    "        return accuracy\n",
    "    \n",
    "    def train(self, x, t):\n",
    "        # forward\n",
    "        y = self.predict(x)\n",
    "        loss = self.lastLayer.forward(y, t)\n",
    "\n",
    "        # backward\n",
    "        d_out = 1\n",
    "        d_out = self.lastLayer.backward(d_out)\n",
    "        layers = list(self.layers.values())\n",
    "        layers.reverse()\n",
    "        for layer in layers:\n",
    "            d_out = layer.backward(d_out)\n",
    "\n",
    "        grads = {}\n",
    "        grads['W1'] = self.layers['Affine1'].dW\n",
    "        grads['b1'] = self.layers['Affine1'].db\n",
    "        grads['W2'] = self.layers['Affine2'].dW\n",
    "        grads['b2'] = self.layers['Affine2'].db\n",
    "\n",
    "        return grads, loss\n",
    "    \n",
    "    def test(self, x, t):\n",
    "        # forward\n",
    "        y = self.predict(x)\n",
    "        loss = self.lastLayer.forward(y, t)\n",
    "        accuracy = self.accuracy(y, t)\n",
    "\n",
    "        return loss, accuracy"
   ]
  },
  {
   "attachments": {},
   "cell_type": "markdown",
   "metadata": {},
   "source": [
    "## SGD、Momentum和AdaGrad优化算法类定义"
   ]
  },
  {
   "cell_type": "code",
   "execution_count": 9,
   "metadata": {},
   "outputs": [],
   "source": [
    "class SGD:\n",
    "    def __init__(self, lr=0.1):\n",
    "        self.lr = lr\n",
    "\n",
    "    def update(self, params, grads):\n",
    "        for key in params.keys():\n",
    "            params[key] -= self.lr * grads[key]"
   ]
  },
  {
   "cell_type": "code",
   "execution_count": 10,
   "metadata": {},
   "outputs": [],
   "source": [
    "class Momentum:\n",
    "    def __init__(self, lr=0.01, momentum=0.9):\n",
    "        self.lr = lr\n",
    "        self.momentum = momentum\n",
    "        self.v = None\n",
    "\n",
    "    def update(self, params, grads):\n",
    "        if self.v is None:\n",
    "            self.v = {}\n",
    "            for key, val in params.items():\n",
    "                self.v[key] = np.zeros_like(val)\n",
    "        for key in params.keys():\n",
    "            self.v[key] = self.momentum*self.v[key] - self.lr*grads[key]\n",
    "            params[key] += self.v[key]"
   ]
  },
  {
   "cell_type": "code",
   "execution_count": 11,
   "metadata": {},
   "outputs": [],
   "source": [
    "class AdaGrad:\n",
    "    def __init__(self, lr=0.1):\n",
    "        self.lr = lr\n",
    "        self.h = None\n",
    "\n",
    "    def update(self, params, grads):\n",
    "        if self.h is None:\n",
    "            self.h = {}\n",
    "            for key, val in params.items():\n",
    "                self.h[key] = np.zeros_like(val)\n",
    "        for key in params.keys():\n",
    "            self.h[key] += grads[key] * grads[key]\n",
    "            params[key] -= self.lr * grads[key] / (np.sqrt(self.h[key]) + 1e-7)"
   ]
  },
  {
   "attachments": {},
   "cell_type": "markdown",
   "metadata": {},
   "source": [
    "## 初始化训练设置"
   ]
  },
  {
   "cell_type": "code",
   "execution_count": 12,
   "metadata": {},
   "outputs": [],
   "source": [
    "path = \"../minist/data/MNIST/raw/\"\n",
    "x_train, t_tarin, x_valid, t_valid = MNIST(path, is_train=True, split=0.1).get_data_set()\n",
    "x_test, t_test, _, _ = MNIST(path, is_train=False).get_data_set()\n",
    "iters_num = 20000\n",
    "train_size = x_train.shape[0]\n",
    "batch_size = 100\n",
    "learning_rate = 0.1\n",
    "# optimizer = SGD(lr=learning_rate)\n",
    "iter_per_epoch = max(train_size / batch_size, 1)"
   ]
  },
  {
   "attachments": {},
   "cell_type": "markdown",
   "metadata": {},
   "source": [
    "## 训练"
   ]
  },
  {
   "cell_type": "code",
   "execution_count": 13,
   "metadata": {},
   "outputs": [
    {
     "name": "stdout",
     "output_type": "stream",
     "text": [
      "(0.09355131496605096, 0.9734)\n",
      "(0.14759311948856463, 0.9756)\n",
      "(0.13289538628677777, 0.9656)\n"
     ]
    }
   ],
   "source": [
    "loss_list = [[], [], []]\n",
    "train_acc_list = [[], [], []]\n",
    "test_acc_list = [[], [], []]\n",
    "train_loss_list = [[], [], []]\n",
    "test_loss_list = [[], [], []]\n",
    "time_log = [[], [], []]\n",
    "optimizers = [SGD(lr=learning_rate), Momentum(lr=learning_rate), AdaGrad(lr=learning_rate)]\n",
    "for n, optimizer in enumerate(optimizers):\n",
    "    network = MLP(input_size=784, hidden_size=50, output_size=10)\n",
    "    for i in range(iters_num):\n",
    "        start = time.time()\n",
    "        batch_mask = np.random.choice(train_size, batch_size)\n",
    "        x_batch = x_train[batch_mask]\n",
    "        t_batch = t_tarin[batch_mask]\n",
    "\n",
    "        # 前向计算、反向传播\n",
    "        grad, loss = network.train(x_batch, t_batch)\n",
    "        loss_list[n].append(loss)\n",
    "        # 参数更新\n",
    "        optimizer.update(network.params, grad)\n",
    "\n",
    "        if i % iter_per_epoch == 0:\n",
    "            train_loss, train_accuracy = network.test(x_train, t_tarin)\n",
    "            test_loss, test_accuracy = network.test(x_valid, t_valid)\n",
    "            train_acc_list[n].append(train_accuracy)\n",
    "            test_acc_list[n].append(test_accuracy)\n",
    "            train_loss_list[n].append(train_loss)\n",
    "            test_loss_list[n].append(test_loss)\n",
    "            # print(train_accuracy, test_accuracy)\n",
    "        end = time.time()\n",
    "        time_log[n].append(end - start)\n",
    "    print(network.test(x_test, t_test))"
   ]
  },
  {
   "attachments": {},
   "cell_type": "markdown",
   "metadata": {},
   "source": [
    "## 统计每一步的训练时间"
   ]
  },
  {
   "cell_type": "code",
   "execution_count": 15,
   "metadata": {},
   "outputs": [
    {
     "data": {
      "text/plain": [
       "0.0021488922238349912"
      ]
     },
     "execution_count": 15,
     "metadata": {},
     "output_type": "execute_result"
    }
   ],
   "source": [
    "sum(time_log[0]) / len(time_log[0])"
   ]
  },
  {
   "attachments": {},
   "cell_type": "markdown",
   "metadata": {},
   "source": [
    "## 训练结果可视化"
   ]
  },
  {
   "cell_type": "code",
   "execution_count": 25,
   "metadata": {},
   "outputs": [
    {
     "data": {
      "image/png": "[encoded data removed]",
      "text/plain": [
       "<Figure size 640x480 with 1 Axes>"
      ]
     },
     "metadata": {},
     "output_type": "display_data"
    }
   ],
   "source": [
    "plt.figure()\n",
    "x = range(0, len(train_acc_list[0]))\n",
    "# plt.plot(x, train_acc_list[0], label='SGD_train_acc', linewidth=2)\n",
    "plt.plot(x, test_acc_list[0], label='SGD_valid_acc', linewidth=2)\n",
    "# plt.plot(x, train_acc_list[1], label='Mom_train_acc', linewidth=2)\n",
    "plt.plot(x, test_acc_list[1], label='Mom_valid_acc', linewidth=2)\n",
    "# plt.plot(x, train_acc_list[2], label='Ada_train_acc', linewidth=2)\n",
    "plt.plot(x, test_acc_list[2], label='Ada_valid_acc', linewidth=2)\n",
    "plt.xticks(range(0, len(train_loss_list[0]), 4))\n",
    "plt.legend()\n",
    "plt.grid()\n",
    "plt.title(\"accuracy\")\n",
    "# plt.savefig('./outputs/loss.png')\n",
    "plt.show()"
   ]
  },
  {
   "cell_type": "code",
   "execution_count": 26,
   "metadata": {},
   "outputs": [
    {
     "data": {
      "image/png": "[encoded data removed]",
      "text/plain": [
       "<Figure size 640x480 with 1 Axes>"
      ]
     },
     "metadata": {},
     "output_type": "display_data"
    }
   ],
   "source": [
    "plt.figure()\n",
    "# losses_d = [x.item() for x in train_acc_list]\n",
    "# losses_g = [x.item() for x in test_acc_list]\n",
    "x = range(len(train_loss_list[0]))\n",
    "# plt.plot(x, train_loss_list[0], label='SGD_train_loss')\n",
    "plt.plot(x, test_loss_list[0], label='SGD_valid_loss')\n",
    "# plt.plot(x, train_loss_list[1], label='Mom_train_loss')\n",
    "plt.plot(x, test_loss_list[1], label='Mom_valid_loss')\n",
    "# plt.plot(x, train_loss_list[2], label='Ada_train_loss')\n",
    "plt.plot(x, test_loss_list[2], label='Ada_valid_loss')\n",
    "plt.xticks(range(0, len(train_loss_list[0]) - 1, 4))\n",
    "plt.legend()\n",
    "plt.title(\"loss\")\n",
    "plt.grid()\n",
    "# plt.savefig('./outputs/loss.png')\n",
    "plt.show()"
   ]
  }
 ],
 "metadata": {
  "kernelspec": {
   "display_name": "pt",
   "language": "python",
   "name": "python3"
  },
  "language_info": {
   "codemirror_mode": {
    "name": "ipython",
    "version": 3
   },
   "file_extension": ".py",
   "mimetype": "text/x-python",
   "name": "python",
   "nbconvert_exporter": "python",
   "pygments_lexer": "ipython3",
   "version": "3.8.13"
  },
  "orig_nbformat": 4,
  "vscode": {
   "interpreter": {
    "hash": "0309d8ed7dd8a2b067a650184bf138287dc3ac5b65e8a603042037ec1e139bf5"
   }
  }
 },
 "nbformat": 4,
 "nbformat_minor": 2
}
